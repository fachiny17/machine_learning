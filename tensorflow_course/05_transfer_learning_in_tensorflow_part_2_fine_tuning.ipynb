{
  "nbformat": 4,
  "nbformat_minor": 0,
  "metadata": {
    "colab": {
      "provenance": [],
      "gpuType": "T4",
      "authorship_tag": "ABX9TyNuFkHlGpcdWXwDzRgO7TxB",
      "include_colab_link": true
    },
    "kernelspec": {
      "name": "python3",
      "display_name": "Python 3"
    },
    "language_info": {
      "name": "python"
    },
    "accelerator": "GPU"
  },
  "cells": [
    {
      "cell_type": "markdown",
      "metadata": {
        "id": "view-in-github",
        "colab_type": "text"
      },
      "source": [
        "<a href=\"https://colab.research.google.com/github/fachiny17/machine_learning/blob/main/tensorflow_course/05_transfer_learning_in_tensorflow_part_2_fine_tuning.ipynb\" target=\"_parent\"><img src=\"https://colab.research.google.com/assets/colab-badge.svg\" alt=\"Open In Colab\"/></a>"
      ]
    },
    {
      "cell_type": "markdown",
      "source": [
        " # Transfer Learning with TensorFlow Part 2: Fine-tuning"
      ],
      "metadata": {
        "id": "98ckaX4RxtlL"
      }
    },
    {
      "cell_type": "markdown",
      "source": [
        "## Create helper functions\n",
        "In the previous notebooks, we've created a bunch of helper functions,\n",
        "now we could rewrite them all,however, this is tedious.\n",
        "\n",
        "So, we download and import it"
      ],
      "metadata": {
        "id": "fD6eSQGu0FOD"
      }
    },
    {
      "cell_type": "code",
      "source": [
        "!wget https://raw.githubusercontent.com/mrdbourke/tensorflow-deep-learning/refs/heads/main/extras/helper_functions.py"
      ],
      "metadata": {
        "colab": {
          "base_uri": "https://localhost:8080/"
        },
        "id": "1N8aj7Y52XxP",
        "outputId": "2671ac65-ed39-41d0-c8d2-8e775078426a"
      },
      "execution_count": 1,
      "outputs": [
        {
          "output_type": "stream",
          "name": "stdout",
          "text": [
            "--2025-08-25 19:15:38--  https://raw.githubusercontent.com/mrdbourke/tensorflow-deep-learning/refs/heads/main/extras/helper_functions.py\n",
            "Resolving raw.githubusercontent.com (raw.githubusercontent.com)... 185.199.110.133, 185.199.108.133, 185.199.111.133, ...\n",
            "Connecting to raw.githubusercontent.com (raw.githubusercontent.com)|185.199.110.133|:443... connected.\n",
            "HTTP request sent, awaiting response... 200 OK\n",
            "Length: 10246 (10K) [text/plain]\n",
            "Saving to: ‘helper_functions.py’\n",
            "\n",
            "\rhelper_functions.py   0%[                    ]       0  --.-KB/s               \rhelper_functions.py 100%[===================>]  10.01K  --.-KB/s    in 0s      \n",
            "\n",
            "2025-08-25 19:15:38 (127 MB/s) - ‘helper_functions.py’ saved [10246/10246]\n",
            "\n"
          ]
        }
      ]
    },
    {
      "cell_type": "code",
      "source": [
        "# Import helper functions we're going to use in this notebook\n",
        "from helper_functions import create_tensorboard_callback, plot_loss_curves, unzip_data, walk_through_dir"
      ],
      "metadata": {
        "id": "j_lHXGtH3Pye"
      },
      "execution_count": 2,
      "outputs": []
    },
    {
      "cell_type": "markdown",
      "source": [
        "**Note:** If you're running this notebook in Google Colab when it times out Colab will delete `helper_function.py`, so you'll have to redownload it if you want access to your helper functions."
      ],
      "metadata": {
        "id": "HJ6u3TNo4Xlj"
      }
    },
    {
      "cell_type": "markdown",
      "source": [
        "## Let's get some data\n",
        "\n",
        "This time, we're goin to see how to use the pretrained models within tf.keras.applications and apply them to our own problem (recognizing images of food).\n",
        "\n",
        "link: https://www.tensorflow.org/api_docs/python/tf/keras/applications"
      ],
      "metadata": {
        "id": "2j3f_AuY5TB3"
      }
    },
    {
      "cell_type": "code",
      "source": [
        "# Get 10% of training data of 10 classes of Food101\n",
        "!wget https://storage.googleapis.com/ztm_tf_course/food_vision/10_food_classes_10_percent.zip\n",
        "unzip_data(\"10_food_classes_10_percent.zip\")"
      ],
      "metadata": {
        "colab": {
          "base_uri": "https://localhost:8080/"
        },
        "id": "FaZFqq5D56pH",
        "outputId": "549c4516-675a-431c-87ea-67f4541c07b3"
      },
      "execution_count": 3,
      "outputs": [
        {
          "output_type": "stream",
          "name": "stdout",
          "text": [
            "--2025-08-25 19:15:43--  https://storage.googleapis.com/ztm_tf_course/food_vision/10_food_classes_10_percent.zip\n",
            "Resolving storage.googleapis.com (storage.googleapis.com)... 192.178.163.207, 173.194.202.207, 173.194.203.207, ...\n",
            "Connecting to storage.googleapis.com (storage.googleapis.com)|192.178.163.207|:443... connected.\n",
            "HTTP request sent, awaiting response... 200 OK\n",
            "Length: 168546183 (161M) [application/zip]\n",
            "Saving to: ‘10_food_classes_10_percent.zip’\n",
            "\n",
            "10_food_classes_10_ 100%[===================>] 160.74M   192MB/s    in 0.8s    \n",
            "\n",
            "2025-08-25 19:15:44 (192 MB/s) - ‘10_food_classes_10_percent.zip’ saved [168546183/168546183]\n",
            "\n"
          ]
        }
      ]
    },
    {
      "cell_type": "code",
      "source": [
        "# Check out how many images and subdirectories are in our dataset\n",
        "walk_through_dir(\"10_food_classes_10_percent\")"
      ],
      "metadata": {
        "colab": {
          "base_uri": "https://localhost:8080/"
        },
        "id": "vy2-fIXq7X9p",
        "outputId": "d57017ba-f97b-44db-8222-cd4abb27e35c"
      },
      "execution_count": 4,
      "outputs": [
        {
          "output_type": "stream",
          "name": "stdout",
          "text": [
            "There are 2 directories and 0 images in '10_food_classes_10_percent'.\n",
            "There are 10 directories and 0 images in '10_food_classes_10_percent/train'.\n",
            "There are 0 directories and 75 images in '10_food_classes_10_percent/train/ramen'.\n",
            "There are 0 directories and 75 images in '10_food_classes_10_percent/train/grilled_salmon'.\n",
            "There are 0 directories and 75 images in '10_food_classes_10_percent/train/fried_rice'.\n",
            "There are 0 directories and 75 images in '10_food_classes_10_percent/train/chicken_wings'.\n",
            "There are 0 directories and 75 images in '10_food_classes_10_percent/train/pizza'.\n",
            "There are 0 directories and 75 images in '10_food_classes_10_percent/train/ice_cream'.\n",
            "There are 0 directories and 75 images in '10_food_classes_10_percent/train/steak'.\n",
            "There are 0 directories and 75 images in '10_food_classes_10_percent/train/chicken_curry'.\n",
            "There are 0 directories and 75 images in '10_food_classes_10_percent/train/sushi'.\n",
            "There are 0 directories and 75 images in '10_food_classes_10_percent/train/hamburger'.\n",
            "There are 10 directories and 0 images in '10_food_classes_10_percent/test'.\n",
            "There are 0 directories and 250 images in '10_food_classes_10_percent/test/ramen'.\n",
            "There are 0 directories and 250 images in '10_food_classes_10_percent/test/grilled_salmon'.\n",
            "There are 0 directories and 250 images in '10_food_classes_10_percent/test/fried_rice'.\n",
            "There are 0 directories and 250 images in '10_food_classes_10_percent/test/chicken_wings'.\n",
            "There are 0 directories and 250 images in '10_food_classes_10_percent/test/pizza'.\n",
            "There are 0 directories and 250 images in '10_food_classes_10_percent/test/ice_cream'.\n",
            "There are 0 directories and 250 images in '10_food_classes_10_percent/test/steak'.\n",
            "There are 0 directories and 250 images in '10_food_classes_10_percent/test/chicken_curry'.\n",
            "There are 0 directories and 250 images in '10_food_classes_10_percent/test/sushi'.\n",
            "There are 0 directories and 250 images in '10_food_classes_10_percent/test/hamburger'.\n"
          ]
        }
      ]
    },
    {
      "cell_type": "code",
      "source": [
        "# Create training and test directory paths\n",
        "train_dir = \"10_food_classes_10_percent/train/\"\n",
        "test_dir = \"10_food_classes_10_percent/test/\""
      ],
      "metadata": {
        "id": "ja9KH6pn7lSN"
      },
      "execution_count": 5,
      "outputs": []
    },
    {
      "cell_type": "code",
      "source": [
        "import tensorflow as tf\n",
        "\n",
        "IMG_SIZE = (224, 224)\n",
        "BATCH_SIZE = 32\n",
        "train_data_10_percent = tf.keras.preprocessing.image_dataset_from_directory(directory=train_dir,\n",
        "                                                                            image_size=IMG_SIZE,\n",
        "                                                                            label_mode=\"categorical\",\n",
        "                                                                            batch_size=BATCH_SIZE)\n",
        "test_data = tf.keras.preprocessing.image_dataset_from_directory(directory=test_dir,\n",
        "                                                                image_size=IMG_SIZE,\n",
        "                                                                label_mode=\"categorical\",\n",
        "                                                                batch_size=BATCH_SIZE)"
      ],
      "metadata": {
        "id": "1PsoklKk8Lr0",
        "colab": {
          "base_uri": "https://localhost:8080/"
        },
        "outputId": "896c9382-61a9-43f6-cd19-e97abd391869"
      },
      "execution_count": 6,
      "outputs": [
        {
          "output_type": "stream",
          "name": "stdout",
          "text": [
            "Found 750 files belonging to 10 classes.\n",
            "Found 2500 files belonging to 10 classes.\n"
          ]
        }
      ]
    },
    {
      "cell_type": "code",
      "source": [
        "train_data_10_percent"
      ],
      "metadata": {
        "colab": {
          "base_uri": "https://localhost:8080/"
        },
        "id": "npJgNzkBARCs",
        "outputId": "17b67e9d-1784-41ba-f307-01204e27a416"
      },
      "execution_count": 7,
      "outputs": [
        {
          "output_type": "execute_result",
          "data": {
            "text/plain": [
              "<_PrefetchDataset element_spec=(TensorSpec(shape=(None, 224, 224, 3), dtype=tf.float32, name=None), TensorSpec(shape=(None, 10), dtype=tf.float32, name=None))>"
            ]
          },
          "metadata": {},
          "execution_count": 7
        }
      ]
    },
    {
      "cell_type": "code",
      "source": [
        "# Check out class names of our dataset\n",
        "train_data_10_percent.class_names"
      ],
      "metadata": {
        "colab": {
          "base_uri": "https://localhost:8080/"
        },
        "id": "3xNKhd6bAwtC",
        "outputId": "ce3994f2-2093-40ab-b4e2-ebe3c45ece8a"
      },
      "execution_count": 8,
      "outputs": [
        {
          "output_type": "execute_result",
          "data": {
            "text/plain": [
              "['chicken_curry',\n",
              " 'chicken_wings',\n",
              " 'fried_rice',\n",
              " 'grilled_salmon',\n",
              " 'hamburger',\n",
              " 'ice_cream',\n",
              " 'pizza',\n",
              " 'ramen',\n",
              " 'steak',\n",
              " 'sushi']"
            ]
          },
          "metadata": {},
          "execution_count": 8
        }
      ]
    },
    {
      "cell_type": "code",
      "source": [
        "# Se an example of a batch of data\n",
        "for images, labels in train_data_10_percent.take(1):\n",
        "  print(images, labels)"
      ],
      "metadata": {
        "id": "NP2LRKQiBpe-",
        "outputId": "0ce90946-3ca8-4a2d-b9bc-323dec214b13",
        "colab": {
          "base_uri": "https://localhost:8080/"
        }
      },
      "execution_count": 9,
      "outputs": [
        {
          "output_type": "stream",
          "name": "stdout",
          "text": [
            "tf.Tensor(\n",
            "[[[[  1.           1.           0.        ]\n",
            "   [  1.           1.           0.        ]\n",
            "   [  1.           1.           1.        ]\n",
            "   ...\n",
            "   [ 16.500021    22.285757    44.28576   ]\n",
            "   [ 11.357078    17.760147    38.550938  ]\n",
            "   [ 11.627738    18.627737    37.62774   ]]\n",
            "\n",
            "  [[  1.           1.           0.        ]\n",
            "   [  1.           1.           0.        ]\n",
            "   [  1.           1.           1.        ]\n",
            "   ...\n",
            "   [ 14.627575    20.199047    44.41331   ]\n",
            "   [  7.7091436   13.709144    37.43361   ]\n",
            "   [  7.3572826   13.357283    36.551094  ]]\n",
            "\n",
            "  [[  1.           1.           0.        ]\n",
            "   [  1.           1.           0.        ]\n",
            "   [  1.           1.           1.        ]\n",
            "   ...\n",
            "   [ 23.045914    28.449015    55.260223  ]\n",
            "   [ 12.515296    18.30101     44.943867  ]\n",
            "   [ 14.714355    20.500069    47.14293   ]]\n",
            "\n",
            "  ...\n",
            "\n",
            "  [[105.49508    110.49508    139.70935   ]\n",
            "   [110.88266    115.88266    145.09692   ]\n",
            "   [109.26538    114.00518    143.26537   ]\n",
            "   ...\n",
            "   [128.14294    133.18886    162.05113   ]\n",
            "   [126.14282    131.14282    160.14282   ]\n",
            "   [126.561295   131.5613     160.5613    ]]\n",
            "\n",
            "  [[111.09692    117.09692    143.09691   ]\n",
            "   [118.234566   124.234566   150.23457   ]\n",
            "   [124.515144   130.08656    156.27023   ]\n",
            "   ...\n",
            "   [124.285645   129.28564    158.28564   ]\n",
            "   [124.01021    129.01021    158.01021   ]\n",
            "   [120.90307    125.90307    155.90308   ]]\n",
            "\n",
            "  [[114.89259    120.89259    144.8926    ]\n",
            "   [118.48519    124.4852     148.4852    ]\n",
            "   [126.847626   132.41905    156.63333   ]\n",
            "   ...\n",
            "   [124.85209    129.8521     158.8521    ]\n",
            "   [123.30605    128.30605    158.30605   ]\n",
            "   [125.18362    130.18362    160.18362   ]]]\n",
            "\n",
            "\n",
            " [[[180.93878    138.93878    100.938774  ]\n",
            "   [183.2296     139.2296     102.22959   ]\n",
            "   [184.91325    138.91325    104.91327   ]\n",
            "   ...\n",
            "   [201.40291    181.12743    146.26013   ]\n",
            "   [178.23976    163.43367    131.16837   ]\n",
            "   [190.55644    180.2708     150.62791   ]]\n",
            "\n",
            "  [[185.2398     141.2398     104.23979   ]\n",
            "   [187.44388    143.44388    108.44388   ]\n",
            "   [193.11736    146.47449    113.68878   ]\n",
            "   ...\n",
            "   [206.87225    186.44373    149.15805   ]\n",
            "   [182.79582    164.21422    131.22443   ]\n",
            "   [177.05614    162.25002    129.32144   ]]\n",
            "\n",
            "  [[186.04591    141.83163    107.26021   ]\n",
            "   [183.30612    137.12245    104.75      ]\n",
            "   [184.18367    135.09183    105.22959   ]\n",
            "   ...\n",
            "   [226.69894    204.79077    167.11732   ]\n",
            "   [213.3162     191.42845    153.99988   ]\n",
            "   [188.14752    167.71895    131.57602   ]]\n",
            "\n",
            "  ...\n",
            "\n",
            "  [[ 82.23987     79.08682     71.658165  ]\n",
            "   [ 56.76011     60.918335    42.601883  ]\n",
            "   [ 47.70928     56.877693    36.73477   ]\n",
            "   ...\n",
            "   [175.23997    123.882774    84.19407   ]\n",
            "   [169.11731    118.561134    75.40295   ]\n",
            "   [168.64261    119.2804      71.06099   ]]\n",
            "\n",
            "  [[ 80.55615     78.74492     59.459137  ]\n",
            "   [ 61.27048     65.05108     37.979595  ]\n",
            "   [ 41.8725      52.214325    26.142872  ]\n",
            "   ...\n",
            "   [169.92856    113.92856     78.50003   ]\n",
            "   [169.29597    113.50009     76.423546  ]\n",
            "   [166.5253     112.81104     68.948814  ]]\n",
            "\n",
            "  [[ 81.60695     76.122246    47.70893   ]\n",
            "   [ 69.4593      70.59708     35.765343  ]\n",
            "   [ 46.116997    53.101665    23.89249   ]\n",
            "   ...\n",
            "   [172.78078    114.42356     80.342064  ]\n",
            "   [176.18881    117.26025     83.04592   ]\n",
            "   [178.11209    120.11208     81.39773   ]]]\n",
            "\n",
            "\n",
            " [[[133.41072    134.41072    126.41072   ]\n",
            "   [139.66965    139.69197    131.69197   ]\n",
            "   [146.27232    143.7634     138.7634    ]\n",
            "   ...\n",
            "   [116.035736   115.035736   111.464264  ]\n",
            "   [117.60268    116.60268    111.67412   ]\n",
            "   [117.3125     116.3125     114.3125    ]]\n",
            "\n",
            "  [[127.41071    128.41072    120.41071   ]\n",
            "   [133.91965    134.86162    126.86161   ]\n",
            "   [138.45535    137.42857    132.42857   ]\n",
            "   ...\n",
            "   [125.54911    124.54911    120.97764   ]\n",
            "   [122.61158    121.61158    116.68302   ]\n",
            "   [119.540146   118.540146   116.540146  ]]\n",
            "\n",
            "  [[121.44196    123.87946    115.16071   ]\n",
            "   [127.53571    128.61607    120.5759    ]\n",
            "   [129.95982    129.84375    124.40179   ]\n",
            "   ...\n",
            "   [130.308      129.308      125.736534  ]\n",
            "   [125.223175   124.223175   119.29462   ]\n",
            "   [120.08032    119.08032    117.08032   ]]\n",
            "\n",
            "  ...\n",
            "\n",
            "  [[232.7634     230.7634     233.7634    ]\n",
            "   [232.125      230.125      233.125     ]\n",
            "   [231.65625    229.65625    232.65625   ]\n",
            "   ...\n",
            "   [163.125      164.125      159.125     ]\n",
            "   [161.49106    162.49106    157.49106   ]\n",
            "   [159.36159    160.36159    155.36159   ]]\n",
            "\n",
            "  [[232.         230.         233.        ]\n",
            "   [231.12946    229.12946    232.12946   ]\n",
            "   [232.         230.         233.        ]\n",
            "   ...\n",
            "   [160.8884     161.8884     156.8884    ]\n",
            "   [159.80356    160.80356    155.80356   ]\n",
            "   [157.875      158.875      153.875     ]]\n",
            "\n",
            "  [[231.3125     229.3125     232.3125    ]\n",
            "   [232.         230.         233.        ]\n",
            "   [231.85268    229.85268    232.85268   ]\n",
            "   ...\n",
            "   [158.52676    159.52676    154.52676   ]\n",
            "   [156.55356    157.55356    152.55356   ]\n",
            "   [155.06694    156.06694    151.06694   ]]]\n",
            "\n",
            "\n",
            " ...\n",
            "\n",
            "\n",
            " [[[254.         254.         254.        ]\n",
            "   [253.         255.         254.        ]\n",
            "   [252.57143    255.         254.        ]\n",
            "   ...\n",
            "   [254.         254.         254.        ]\n",
            "   [254.         254.         254.        ]\n",
            "   [254.         254.         254.        ]]\n",
            "\n",
            "  [[254.         254.         254.        ]\n",
            "   [253.         255.         254.        ]\n",
            "   [252.57143    255.         254.        ]\n",
            "   ...\n",
            "   [254.         254.         254.        ]\n",
            "   [254.         254.         254.        ]\n",
            "   [254.         254.         254.        ]]\n",
            "\n",
            "  [[254.         254.         254.        ]\n",
            "   [253.         255.         254.        ]\n",
            "   [252.66327    255.         254.        ]\n",
            "   ...\n",
            "   [254.         254.         254.        ]\n",
            "   [254.         254.         254.        ]\n",
            "   [254.         254.         254.        ]]\n",
            "\n",
            "  ...\n",
            "\n",
            "  [[253.         253.         253.        ]\n",
            "   [248.2857     248.2857     248.2857    ]\n",
            "   [235.85715    235.85715    235.85715   ]\n",
            "   ...\n",
            "   [254.         254.         254.        ]\n",
            "   [254.         254.         254.        ]\n",
            "   [254.         254.         254.        ]]\n",
            "\n",
            "  [[253.         253.         253.        ]\n",
            "   [247.35205    247.35205    247.35205   ]\n",
            "   [234.7857     234.7857     234.7857    ]\n",
            "   ...\n",
            "   [254.         254.         254.        ]\n",
            "   [254.         254.         254.        ]\n",
            "   [254.         254.         254.        ]]\n",
            "\n",
            "  [[253.         253.         253.        ]\n",
            "   [247.2857     247.2857     247.2857    ]\n",
            "   [233.78061    233.78061    233.78061   ]\n",
            "   ...\n",
            "   [254.         254.         254.        ]\n",
            "   [254.         254.         254.        ]\n",
            "   [254.         254.         254.        ]]]\n",
            "\n",
            "\n",
            " [[[ 71.12755     37.22959     10.214286  ]\n",
            "   [ 64.428566    33.92857      6.188775  ]\n",
            "   [ 55.341835    30.566326     0.        ]\n",
            "   ...\n",
            "   [126.4949     104.21429     21.780664  ]\n",
            "   [128.66328    106.30614     24.377567  ]\n",
            "   [130.11223    107.112236    27.82652   ]]\n",
            "\n",
            "  [[ 75.47449     41.760204     0.42857122]\n",
            "   [ 74.56632     42.561226     0.70408136]\n",
            "   [ 64.67857     38.23469      0.28061205]\n",
            "   ...\n",
            "   [122.19904    101.12762     22.556189  ]\n",
            "   [122.78061    101.70918     22.994898  ]\n",
            "   [124.19392    102.19392     26.408203  ]]\n",
            "\n",
            "  [[110.494896    76.78061     12.285713  ]\n",
            "   [107.668365    76.46939     14.62755   ]\n",
            "   [ 94.311226    64.21429      9.540814  ]\n",
            "   ...\n",
            "   [112.454155    91.23987     22.954151  ]\n",
            "   [112.85713     92.42856     22.142845  ]\n",
            "   [115.00011     94.57153     24.71439   ]]\n",
            "\n",
            "  ...\n",
            "\n",
            "  [[184.85204    167.85204     95.85204   ]\n",
            "   [186.22961    171.80103     98.37243   ]\n",
            "   [186.         172.42857     99.21427   ]\n",
            "   ...\n",
            "   [200.73979    183.78574     70.42856   ]\n",
            "   [199.14288    182.57147     66.214294  ]\n",
            "   [199.49994    183.92853     62.714233  ]]\n",
            "\n",
            "  [[187.21432    170.21432     98.21432   ]\n",
            "   [189.71432    173.71432     98.714325  ]\n",
            "   [186.19897    172.62755     97.84184   ]\n",
            "   ...\n",
            "   [198.85715    182.85715     70.285675  ]\n",
            "   [198.2143     183.2143      66.07141   ]\n",
            "   [199.35706    185.35706     63.357056  ]]\n",
            "\n",
            "  [[188.7143     172.7143      97.71429   ]\n",
            "   [189.33163    173.33163     98.331635  ]\n",
            "   [183.92857    171.14287     93.57144   ]\n",
            "   ...\n",
            "   [196.64285    183.64285     70.07138   ]\n",
            "   [193.4541     181.4541      63.219368  ]\n",
            "   [192.77032    181.1275      58.413147  ]]]\n",
            "\n",
            "\n",
            " [[[207.66406    156.66406     77.66406   ]\n",
            "   [206.85938    155.85938     74.859375  ]\n",
            "   [208.85938    158.85938     73.859375  ]\n",
            "   ...\n",
            "   [197.2444     155.2444      97.24439   ]\n",
            "   [200.         155.          98.        ]\n",
            "   [200.64282    153.64282     97.64282   ]]\n",
            "\n",
            "  [[206.66406    155.66406     76.66406   ]\n",
            "   [205.15625    154.15625     73.15625   ]\n",
            "   [207.15625    157.15625     72.15625   ]\n",
            "   ...\n",
            "   [197.8504     155.8504      97.8504    ]\n",
            "   [199.60826    154.60826     97.60826   ]\n",
            "   [200.7935     153.7935      97.7935    ]]\n",
            "\n",
            "  [[204.76004    153.76004     74.76004   ]\n",
            "   [203.29688    152.29688     71.296875  ]\n",
            "   [204.59375    154.59375     69.29241   ]\n",
            "   ...\n",
            "   [199.2823     157.2823      99.28231   ]\n",
            "   [199.02121    154.02121     97.02121   ]\n",
            "   [200.74886    153.74886     97.748856  ]]\n",
            "\n",
            "  ...\n",
            "\n",
            "  [[207.84486    158.34264    100.35379   ]\n",
            "   [204.7366     158.52232     98.61495   ]\n",
            "   [202.44308    158.44308     95.44308   ]\n",
            "   ...\n",
            "   [188.20982    152.1685      82.82913   ]\n",
            "   [189.10046    150.02121     72.83591   ]\n",
            "   [192.80916    150.76009     69.79793   ]]\n",
            "\n",
            "  [[210.5692     162.10602    106.18304   ]\n",
            "   [208.41406    162.8192     103.58147   ]\n",
            "   [205.73438    163.46875    101.046875  ]\n",
            "   ...\n",
            "   [190.49438    156.41064     91.794464  ]\n",
            "   [189.         150.60826     74.39614   ]\n",
            "   [192.15068    151.50786     68.436325  ]]\n",
            "\n",
            "  [[212.26674    165.66853    113.2567    ]\n",
            "   [210.99219    167.5067     112.15848   ]\n",
            "   [210.62164    170.48102    109.3404    ]\n",
            "   ...\n",
            "   [194.19078    160.43518    100.45289   ]\n",
            "   [189.85938    151.79797     78.08808   ]\n",
            "   [192.         151.9096      66.566895  ]]]], shape=(32, 224, 224, 3), dtype=float32) tf.Tensor(\n",
            "[[0. 0. 0. 0. 0. 1. 0. 0. 0. 0.]\n",
            " [0. 1. 0. 0. 0. 0. 0. 0. 0. 0.]\n",
            " [0. 0. 0. 0. 0. 0. 0. 0. 1. 0.]\n",
            " [0. 0. 0. 0. 0. 0. 0. 0. 1. 0.]\n",
            " [0. 0. 0. 0. 0. 0. 1. 0. 0. 0.]\n",
            " [0. 0. 0. 0. 0. 0. 0. 1. 0. 0.]\n",
            " [0. 1. 0. 0. 0. 0. 0. 0. 0. 0.]\n",
            " [1. 0. 0. 0. 0. 0. 0. 0. 0. 0.]\n",
            " [0. 0. 1. 0. 0. 0. 0. 0. 0. 0.]\n",
            " [0. 0. 0. 0. 0. 0. 0. 0. 0. 1.]\n",
            " [0. 0. 0. 0. 0. 1. 0. 0. 0. 0.]\n",
            " [0. 0. 0. 0. 0. 0. 0. 1. 0. 0.]\n",
            " [0. 0. 0. 0. 0. 0. 0. 0. 0. 1.]\n",
            " [0. 0. 0. 1. 0. 0. 0. 0. 0. 0.]\n",
            " [1. 0. 0. 0. 0. 0. 0. 0. 0. 0.]\n",
            " [0. 0. 0. 0. 0. 1. 0. 0. 0. 0.]\n",
            " [0. 0. 0. 0. 0. 0. 0. 0. 1. 0.]\n",
            " [0. 1. 0. 0. 0. 0. 0. 0. 0. 0.]\n",
            " [0. 1. 0. 0. 0. 0. 0. 0. 0. 0.]\n",
            " [0. 0. 1. 0. 0. 0. 0. 0. 0. 0.]\n",
            " [0. 0. 0. 0. 0. 0. 0. 1. 0. 0.]\n",
            " [0. 1. 0. 0. 0. 0. 0. 0. 0. 0.]\n",
            " [0. 0. 0. 0. 0. 0. 0. 1. 0. 0.]\n",
            " [0. 0. 0. 0. 0. 1. 0. 0. 0. 0.]\n",
            " [0. 0. 0. 0. 0. 1. 0. 0. 0. 0.]\n",
            " [0. 0. 0. 0. 0. 0. 0. 0. 0. 1.]\n",
            " [0. 0. 0. 0. 1. 0. 0. 0. 0. 0.]\n",
            " [0. 0. 1. 0. 0. 0. 0. 0. 0. 0.]\n",
            " [1. 0. 0. 0. 0. 0. 0. 0. 0. 0.]\n",
            " [0. 1. 0. 0. 0. 0. 0. 0. 0. 0.]\n",
            " [1. 0. 0. 0. 0. 0. 0. 0. 0. 0.]\n",
            " [0. 0. 0. 0. 0. 0. 0. 0. 0. 1.]], shape=(32, 10), dtype=float32)\n"
          ]
        }
      ]
    },
    {
      "cell_type": "markdown",
      "source": [
        "## Model 0: Building a transfer learning feature extraction model using the Keras Functional API"
      ],
      "metadata": {
        "id": "tufd_kUvI5al"
      }
    },
    {
      "cell_type": "code",
      "source": [
        "# 1. Create base model with tf.keras.applications\n",
        "base_model = tf.keras.applications.EfficientNetB0(include_top=False)\n",
        "\n",
        "# 2. Freeze the model (so the underlying pre-trained patterns aren't updated during training)\n",
        "base_model.trainable=False\n",
        "\n",
        "# 3. Create inputs into our model\n",
        "inputs = tf.keras.layers.Input(shape=(224, 224, 3), name=\"input_layer\")\n",
        "\n",
        "# 4. If using a model like Resnet50V2 you will need to normalize inputs (you don't have to for EfficientNet(s))\n",
        "# x = tf.keras.layers.experimental.preprocessing.Rescaling(1./255)(inputs)\n",
        "\n",
        "# 5. Pass the inputs to the base_model\n",
        "x = base_model(inputs)\n",
        "print(f\"Shape after base model: {x.shape}\")\n",
        "\n",
        "# 6. Average pool the outputs of the base model (aggregrate all the most important information, reduce number of computations)\n",
        "x = t.keras.layers.GlobalAveragePooling2D(name=\"global_average_pooling_layer\")(x)\n",
        "\n",
        "# 7. Create the output activation layer\n",
        "outputs = tf.keras.layers.Dense(10, activation=\"softmax\", name=\"output_layer\")(x)\n",
        "\n",
        "# 8. Combine the inputs wit the outputs into a model\n",
        "model_0 = tf.keras.Model(inputs, outputs)"
      ],
      "metadata": {
        "id": "wWYVOKEUr18O"
      },
      "execution_count": null,
      "outputs": []
    }
  ]
}