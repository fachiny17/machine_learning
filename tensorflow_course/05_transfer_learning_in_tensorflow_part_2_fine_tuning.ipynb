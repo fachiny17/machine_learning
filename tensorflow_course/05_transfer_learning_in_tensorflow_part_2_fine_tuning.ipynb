{
  "nbformat": 4,
  "nbformat_minor": 0,
  "metadata": {
    "colab": {
      "provenance": [],
      "gpuType": "T4",
      "authorship_tag": "ABX9TyOLIBAgOk639QpED/JU3DIv",
      "include_colab_link": true
    },
    "kernelspec": {
      "name": "python3",
      "display_name": "Python 3"
    },
    "language_info": {
      "name": "python"
    },
    "accelerator": "GPU"
  },
  "cells": [
    {
      "cell_type": "markdown",
      "metadata": {
        "id": "view-in-github",
        "colab_type": "text"
      },
      "source": [
        "<a href=\"https://colab.research.google.com/github/fachiny17/machine_learning/blob/main/tensorflow_course/05_transfer_learning_in_tensorflow_part_2_fine_tuning.ipynb\" target=\"_parent\"><img src=\"https://colab.research.google.com/assets/colab-badge.svg\" alt=\"Open In Colab\"/></a>"
      ]
    },
    {
      "cell_type": "markdown",
      "source": [
        " # Transfer Learning with TensorFlow Part 2: Fine-tuning"
      ],
      "metadata": {
        "id": "98ckaX4RxtlL"
      }
    },
    {
      "cell_type": "markdown",
      "source": [
        "## Create helper functions\n",
        "In the previous notebooks, we've created a bunch of helper functions,\n",
        "now we could rewrite them all,however, this is tedious.\n",
        "\n",
        "So, we download and import it"
      ],
      "metadata": {
        "id": "fD6eSQGu0FOD"
      }
    },
    {
      "cell_type": "code",
      "source": [
        "!wget https://raw.githubusercontent.com/mrdbourke/tensorflow-deep-learning/refs/heads/main/extras/helper_functions.py"
      ],
      "metadata": {
        "colab": {
          "base_uri": "https://localhost:8080/"
        },
        "id": "1N8aj7Y52XxP",
        "outputId": "56bb229f-c14a-43c7-8bdb-419f1b5e9752"
      },
      "execution_count": 1,
      "outputs": [
        {
          "output_type": "stream",
          "name": "stdout",
          "text": [
            "--2025-08-25 12:01:31--  https://raw.githubusercontent.com/mrdbourke/tensorflow-deep-learning/refs/heads/main/extras/helper_functions.py\n",
            "Resolving raw.githubusercontent.com (raw.githubusercontent.com)... 185.199.108.133, 185.199.109.133, 185.199.110.133, ...\n",
            "Connecting to raw.githubusercontent.com (raw.githubusercontent.com)|185.199.108.133|:443... connected.\n",
            "HTTP request sent, awaiting response... 200 OK\n",
            "Length: 10246 (10K) [text/plain]\n",
            "Saving to: ‘helper_functions.py’\n",
            "\n",
            "\rhelper_functions.py   0%[                    ]       0  --.-KB/s               \rhelper_functions.py 100%[===================>]  10.01K  --.-KB/s    in 0s      \n",
            "\n",
            "2025-08-25 12:01:31 (97.0 MB/s) - ‘helper_functions.py’ saved [10246/10246]\n",
            "\n"
          ]
        }
      ]
    },
    {
      "cell_type": "code",
      "source": [
        "# Import helper functions we're going to use in this notebook\n",
        "from helper_functions import create_tensorboard_callback, plot_loss_curves, unzip_data, walk_through_dir"
      ],
      "metadata": {
        "id": "j_lHXGtH3Pye"
      },
      "execution_count": 2,
      "outputs": []
    },
    {
      "cell_type": "markdown",
      "source": [
        "**Note:** If you're running this notebook in Google Colab when it times out Colab will delete `helper_function.py`, so you'll have to redownload it if you want access to your helper functions."
      ],
      "metadata": {
        "id": "HJ6u3TNo4Xlj"
      }
    },
    {
      "cell_type": "markdown",
      "source": [
        "## Let's get some data\n",
        "\n",
        "This time, we're goin to see how to use the pretrained models within tf.keras.applications and apply them to our own problem (recognizing images of food).\n",
        "\n",
        "link: https://www.tensorflow.org/api_docs/python/tf/keras/applications"
      ],
      "metadata": {
        "id": "2j3f_AuY5TB3"
      }
    },
    {
      "cell_type": "code",
      "source": [
        "# Get 10% of training data of 10 classes of Food101\n",
        "!wget https://storage.googleapis.com/ztm_tf_course/food_vision/10_food_classes_10_percent.zip\n",
        "unzip_data(\"10_food_classes_10_percent.zip\")"
      ],
      "metadata": {
        "colab": {
          "base_uri": "https://localhost:8080/"
        },
        "id": "FaZFqq5D56pH",
        "outputId": "bb01bcbe-1dfb-4ae8-da6f-9d19c6486489"
      },
      "execution_count": 3,
      "outputs": [
        {
          "output_type": "stream",
          "name": "stdout",
          "text": [
            "--2025-08-25 12:01:37--  https://storage.googleapis.com/ztm_tf_course/food_vision/10_food_classes_10_percent.zip\n",
            "Resolving storage.googleapis.com (storage.googleapis.com)... 142.251.188.207, 74.125.142.207, 74.125.195.207, ...\n",
            "Connecting to storage.googleapis.com (storage.googleapis.com)|142.251.188.207|:443... connected.\n",
            "HTTP request sent, awaiting response... 200 OK\n",
            "Length: 168546183 (161M) [application/zip]\n",
            "Saving to: ‘10_food_classes_10_percent.zip’\n",
            "\n",
            "10_food_classes_10_ 100%[===================>] 160.74M   133MB/s    in 1.2s    \n",
            "\n",
            "2025-08-25 12:01:38 (133 MB/s) - ‘10_food_classes_10_percent.zip’ saved [168546183/168546183]\n",
            "\n"
          ]
        }
      ]
    },
    {
      "cell_type": "code",
      "source": [
        "# Check out how many images and subdirectories are in our dataset\n",
        "walk_through_dir(\"10_food_classes_10_percent\")"
      ],
      "metadata": {
        "colab": {
          "base_uri": "https://localhost:8080/"
        },
        "id": "vy2-fIXq7X9p",
        "outputId": "9f6b5647-2179-455d-952e-3e00eb8c648f"
      },
      "execution_count": 4,
      "outputs": [
        {
          "output_type": "stream",
          "name": "stdout",
          "text": [
            "There are 2 directories and 0 images in '10_food_classes_10_percent'.\n",
            "There are 10 directories and 0 images in '10_food_classes_10_percent/test'.\n",
            "There are 0 directories and 250 images in '10_food_classes_10_percent/test/fried_rice'.\n",
            "There are 0 directories and 250 images in '10_food_classes_10_percent/test/sushi'.\n",
            "There are 0 directories and 250 images in '10_food_classes_10_percent/test/chicken_wings'.\n",
            "There are 0 directories and 250 images in '10_food_classes_10_percent/test/hamburger'.\n",
            "There are 0 directories and 250 images in '10_food_classes_10_percent/test/grilled_salmon'.\n",
            "There are 0 directories and 250 images in '10_food_classes_10_percent/test/ramen'.\n",
            "There are 0 directories and 250 images in '10_food_classes_10_percent/test/pizza'.\n",
            "There are 0 directories and 250 images in '10_food_classes_10_percent/test/ice_cream'.\n",
            "There are 0 directories and 250 images in '10_food_classes_10_percent/test/steak'.\n",
            "There are 0 directories and 250 images in '10_food_classes_10_percent/test/chicken_curry'.\n",
            "There are 10 directories and 0 images in '10_food_classes_10_percent/train'.\n",
            "There are 0 directories and 75 images in '10_food_classes_10_percent/train/fried_rice'.\n",
            "There are 0 directories and 75 images in '10_food_classes_10_percent/train/sushi'.\n",
            "There are 0 directories and 75 images in '10_food_classes_10_percent/train/chicken_wings'.\n",
            "There are 0 directories and 75 images in '10_food_classes_10_percent/train/hamburger'.\n",
            "There are 0 directories and 75 images in '10_food_classes_10_percent/train/grilled_salmon'.\n",
            "There are 0 directories and 75 images in '10_food_classes_10_percent/train/ramen'.\n",
            "There are 0 directories and 75 images in '10_food_classes_10_percent/train/pizza'.\n",
            "There are 0 directories and 75 images in '10_food_classes_10_percent/train/ice_cream'.\n",
            "There are 0 directories and 75 images in '10_food_classes_10_percent/train/steak'.\n",
            "There are 0 directories and 75 images in '10_food_classes_10_percent/train/chicken_curry'.\n"
          ]
        }
      ]
    },
    {
      "cell_type": "code",
      "source": [
        "# Create training and test directory paths\n",
        "train_dir = \"10_food_classes_10_percent/train/\"\n",
        "test_dir = \"10_food_classes_10_percent/test/\""
      ],
      "metadata": {
        "id": "ja9KH6pn7lSN"
      },
      "execution_count": 5,
      "outputs": []
    },
    {
      "cell_type": "code",
      "source": [
        "import tensorflow as tf\n",
        "\n",
        "IMG_SIZE = (224, 224)\n",
        "BATCH_SIZE = 32\n",
        "train_data_10_percent = tf.keras.preprocessing.image_dataset_from_directory(directory=train_dir,\n",
        "                                                                            image_size=IMG_SIZE,\n",
        "                                                                            label_mode=\"categorical\",\n",
        "                                                                            batch_size=BATCH_SIZE)\n",
        "test_data = tf.keras.preprocessing.image_dataset_from_directory(directory=test_dir,\n",
        "                                                                image_size=IMG_SIZE,\n",
        "                                                                label_mode=\"categorical\",\n",
        "                                                                batch_size=BATCH_SIZE)"
      ],
      "metadata": {
        "id": "1PsoklKk8Lr0",
        "colab": {
          "base_uri": "https://localhost:8080/"
        },
        "outputId": "795454f9-e28d-474a-d959-5e5ab49c0b37"
      },
      "execution_count": 6,
      "outputs": [
        {
          "output_type": "stream",
          "name": "stdout",
          "text": [
            "Found 750 files belonging to 10 classes.\n",
            "Found 2500 files belonging to 10 classes.\n"
          ]
        }
      ]
    },
    {
      "cell_type": "code",
      "source": [
        "train_data_10_percent"
      ],
      "metadata": {
        "colab": {
          "base_uri": "https://localhost:8080/"
        },
        "id": "npJgNzkBARCs",
        "outputId": "a91d7099-c278-4274-9708-f4e92571c129"
      },
      "execution_count": 7,
      "outputs": [
        {
          "output_type": "execute_result",
          "data": {
            "text/plain": [
              "<_PrefetchDataset element_spec=(TensorSpec(shape=(None, 224, 224, 3), dtype=tf.float32, name=None), TensorSpec(shape=(None, 10), dtype=tf.float32, name=None))>"
            ]
          },
          "metadata": {},
          "execution_count": 7
        }
      ]
    },
    {
      "cell_type": "code",
      "source": [
        "# Check out class names of our dataset\n",
        "train_data_10_percent.class_names"
      ],
      "metadata": {
        "colab": {
          "base_uri": "https://localhost:8080/"
        },
        "id": "3xNKhd6bAwtC",
        "outputId": "d253bcb7-40fb-4bba-ad82-a287101aa1f0"
      },
      "execution_count": 8,
      "outputs": [
        {
          "output_type": "execute_result",
          "data": {
            "text/plain": [
              "['chicken_curry',\n",
              " 'chicken_wings',\n",
              " 'fried_rice',\n",
              " 'grilled_salmon',\n",
              " 'hamburger',\n",
              " 'ice_cream',\n",
              " 'pizza',\n",
              " 'ramen',\n",
              " 'steak',\n",
              " 'sushi']"
            ]
          },
          "metadata": {},
          "execution_count": 8
        }
      ]
    },
    {
      "cell_type": "code",
      "source": [
        "# Se an example of a batch of data\n",
        "for images, labels in train_data_10_percent.take(1):\n",
        "  print(images, labels)"
      ],
      "metadata": {
        "id": "NP2LRKQiBpe-",
        "outputId": "6a243af3-30fc-4c92-95de-98d9a94428e6",
        "colab": {
          "base_uri": "https://localhost:8080/"
        }
      },
      "execution_count": 9,
      "outputs": [
        {
          "output_type": "stream",
          "name": "stdout",
          "text": [
            "tf.Tensor(\n",
            "[[[[1.04132652e+01 2.84132652e+01 5.04132652e+01]\n",
            "   [8.35714245e+00 2.63571434e+01 4.83571396e+01]\n",
            "   [9.21428585e+00 2.72142868e+01 4.92142868e+01]\n",
            "   ...\n",
            "   [1.10704079e+02 1.05704079e+02 9.97040787e+01]\n",
            "   [1.08285698e+02 1.03285698e+02 9.72856979e+01]\n",
            "   [1.06841812e+02 1.01841812e+02 9.58418121e+01]]\n",
            "\n",
            "  [[8.81122398e+00 2.68112240e+01 4.88112221e+01]\n",
            "   [1.00714283e+01 2.80714283e+01 5.00714264e+01]\n",
            "   [7.85714245e+00 2.58571415e+01 4.78571396e+01]\n",
            "   ...\n",
            "   [1.08372421e+02 1.03372421e+02 9.73724213e+01]\n",
            "   [1.07923470e+02 1.02923470e+02 9.69234695e+01]\n",
            "   [1.06499969e+02 1.01499969e+02 9.54999695e+01]]\n",
            "\n",
            "  [[7.85714293e+00 2.58571434e+01 4.78571434e+01]\n",
            "   [9.92857170e+00 2.79285717e+01 4.99285736e+01]\n",
            "   [9.57142830e+00 2.75714264e+01 4.95714264e+01]\n",
            "   ...\n",
            "   [1.09505119e+02 1.04505119e+02 9.85051193e+01]\n",
            "   [1.06627525e+02 1.01627525e+02 9.56275253e+01]\n",
            "   [1.04647964e+02 9.96479645e+01 9.36479645e+01]]\n",
            "\n",
            "  ...\n",
            "\n",
            "  [[1.37857361e+01 4.37857361e+01 6.77857361e+01]\n",
            "   [1.30000000e+01 4.30000000e+01 6.70000000e+01]\n",
            "   [1.17857141e+01 4.17857132e+01 6.57857132e+01]\n",
            "   ...\n",
            "   [6.22601738e+01 5.92601738e+01 5.42601738e+01]\n",
            "   [5.84285278e+01 5.70000000e+01 5.20000000e+01]\n",
            "   [5.87193222e+01 5.72907944e+01 5.22907944e+01]]\n",
            "\n",
            "  [[1.43571424e+01 4.43571434e+01 6.83571396e+01]\n",
            "   [1.29336615e+01 4.29336624e+01 6.69336624e+01]\n",
            "   [1.20714417e+01 4.20714417e+01 6.60714417e+01]\n",
            "   ...\n",
            "   [5.70713806e+01 5.56428528e+01 5.06428528e+01]\n",
            "   [5.67142334e+01 5.57142334e+01 5.07142334e+01]\n",
            "   [5.34999390e+01 5.24999390e+01 4.74999390e+01]]\n",
            "\n",
            "  [[1.33571424e+01 4.33571434e+01 6.73571396e+01]\n",
            "   [1.20459156e+01 4.20459137e+01 6.60459137e+01]\n",
            "   [1.37092113e+01 4.37092133e+01 6.77092133e+01]\n",
            "   ...\n",
            "   [5.30713501e+01 5.16428223e+01 4.66428223e+01]\n",
            "   [5.15713806e+01 5.05713806e+01 4.55713806e+01]\n",
            "   [4.92856445e+01 4.82856445e+01 4.32856445e+01]]]\n",
            "\n",
            "\n",
            " [[[5.58571396e+01 2.46836739e+01 1.88775492e+00]\n",
            "   [5.90459175e+01 3.18316345e+01 4.95408297e+00]\n",
            "   [5.24285736e+01 2.90714302e+01 1.69897997e+00]\n",
            "   ...\n",
            "   [3.80713615e+01 2.06428356e+01 2.85709906e+00]\n",
            "   [3.64744987e+01 1.94744987e+01 7.14285612e-01]\n",
            "   [3.73010445e+01 2.23010426e+01 1.30104268e+00]]\n",
            "\n",
            "  [[5.88877563e+01 2.88877563e+01 2.97959185e+00]\n",
            "   [5.61326523e+01 2.99795914e+01 2.98469400e+00]\n",
            "   [5.78877563e+01 3.45306129e+01 6.31632710e+00]\n",
            "   ...\n",
            "   [4.03009758e+01 2.28724480e+01 5.51523972e+00]\n",
            "   [3.79949226e+01 2.09949245e+01 1.06124914e+00]\n",
            "   [4.34286423e+01 2.64286423e+01 6.42864227e+00]]\n",
            "\n",
            "  [[6.50459213e+01 3.73418388e+01 1.06224489e+01]\n",
            "   [5.59285660e+01 2.98724480e+01 2.87244749e+00]\n",
            "   [5.75000000e+01 3.40051003e+01 5.83673382e+00]\n",
            "   ...\n",
            "   [4.05510521e+01 2.27857800e+01 5.59694386e+00]\n",
            "   [3.99285851e+01 2.25000134e+01 3.14287090e+00]\n",
            "   [4.49286766e+01 2.75001049e+01 8.14296246e+00]]\n",
            "\n",
            "  ...\n",
            "\n",
            "  [[1.03418159e+01 1.11224804e+01 6.37762785e-01]\n",
            "   [1.10611973e+01 1.24745083e+01 1.87244797e+00]\n",
            "   [8.60205936e+00 1.02653589e+01 0.00000000e+00]\n",
            "   ...\n",
            "   [2.14811142e+02 2.24811142e+02 2.26336716e+02]\n",
            "   [2.10000061e+02 2.21000061e+02 2.23000061e+02]\n",
            "   [1.87876923e+02 1.98876923e+02 2.02448395e+02]]\n",
            "\n",
            "  [[1.46683588e+01 1.86683578e+01 4.66835928e+00]\n",
            "   [1.09897671e+01 1.49897671e+01 1.06120908e+00]\n",
            "   [1.19490499e+01 1.49490499e+01 3.94905019e+00]\n",
            "   ...\n",
            "   [2.11158127e+02 2.21127518e+02 2.22928558e+02]\n",
            "   [2.09561142e+02 2.18561142e+02 2.23561142e+02]\n",
            "   [1.90550583e+02 1.99550583e+02 2.04550583e+02]]\n",
            "\n",
            "  [[1.09795618e+01 1.76939182e+01 3.71943045e+00]\n",
            "   [6.77045393e+00 1.27704544e+01 2.95932174e-01]\n",
            "   [1.98980198e+01 2.52551613e+01 1.18980198e+01]\n",
            "   ...\n",
            "   [2.12219406e+02 2.21790878e+02 2.23790878e+02]\n",
            "   [2.09903107e+02 2.18903107e+02 2.23903107e+02]\n",
            "   [1.84101532e+02 1.93101532e+02 2.00101532e+02]]]\n",
            "\n",
            "\n",
            " [[[3.05714302e+01 1.26989794e+01 4.10204077e+00]\n",
            "   [3.80255089e+01 1.81683674e+01 7.23979616e+00]\n",
            "   [4.86377563e+01 2.21479588e+01 6.85714293e+00]\n",
            "   ...\n",
            "   [1.25285713e+02 8.82857132e+01 5.92857132e+01]\n",
            "   [1.25285713e+02 8.92857132e+01 5.72857132e+01]\n",
            "   [1.25285713e+02 8.92857132e+01 5.72857132e+01]]\n",
            "\n",
            "  [[3.70714264e+01 1.48826532e+01 5.02040815e+00]\n",
            "   [4.45663261e+01 2.07193890e+01 8.80102158e+00]\n",
            "   [5.31275520e+01 2.53571434e+01 8.14285755e+00]\n",
            "   ...\n",
            "   [1.29857147e+02 9.36428833e+01 6.22856712e+01]\n",
            "   [1.29857147e+02 9.38571472e+01 6.18571434e+01]\n",
            "   [1.29857147e+02 9.38571472e+01 6.18571434e+01]]\n",
            "\n",
            "  [[4.39285698e+01 1.52193880e+01 5.13775539e+00]\n",
            "   [5.16428566e+01 2.17448997e+01 7.72959185e+00]\n",
            "   [6.03571434e+01 2.56428566e+01 8.00000000e+00]\n",
            "   ...\n",
            "   [1.36428574e+02 9.74285736e+01 6.67652740e+01]\n",
            "   [1.36428574e+02 9.74285736e+01 6.64285736e+01]\n",
            "   [1.36428574e+02 9.74285736e+01 6.64285736e+01]]\n",
            "\n",
            "  ...\n",
            "\n",
            "  [[1.63714355e+02 9.57143478e+01 3.31428795e+01]\n",
            "   [1.60428635e+02 9.24286346e+01 2.98571644e+01]\n",
            "   [1.60571487e+02 9.25714951e+01 3.00000229e+01]\n",
            "   ...\n",
            "   [1.69168350e+02 9.91683578e+01 2.87398262e+01]\n",
            "   [1.69214264e+02 9.92142639e+01 2.87857361e+01]\n",
            "   [1.69494919e+02 9.94949112e+01 2.90663834e+01]]\n",
            "\n",
            "  [[1.70403076e+02 1.03071442e+02 3.60663261e+01]\n",
            "   [1.69071442e+02 1.02005119e+02 3.42040939e+01]\n",
            "   [1.68270416e+02 1.01071442e+02 3.36683731e+01]\n",
            "   ...\n",
            "   [1.69857117e+02 9.98571167e+01 3.08571167e+01]\n",
            "   [1.69994904e+02 9.99948959e+01 3.09948959e+01]\n",
            "   [1.70857117e+02 1.00857117e+02 3.18571167e+01]]\n",
            "\n",
            "  [[1.69285645e+02 1.02285645e+02 3.22856445e+01]\n",
            "   [1.68311157e+02 1.01311157e+02 3.13111572e+01]\n",
            "   [1.67566284e+02 1.00566284e+02 3.05662842e+01]\n",
            "   ...\n",
            "   [1.67862259e+02 9.68622665e+01 3.08622665e+01]\n",
            "   [1.68000000e+02 9.70000000e+01 3.10000000e+01]\n",
            "   [1.68357178e+02 9.73571777e+01 3.13571777e+01]]]\n",
            "\n",
            "\n",
            " ...\n",
            "\n",
            "\n",
            " [[[6.75561218e+01 1.51989803e+01 2.75510192e+00]\n",
            "   [7.28826523e+01 2.05255108e+01 6.93367386e+00]\n",
            "   [7.54948959e+01 2.59285717e+01 1.10714283e+01]\n",
            "   ...\n",
            "   [7.05000229e+01 3.92854977e+00 0.00000000e+00]\n",
            "   [7.21428680e+01 3.14287019e+00 0.00000000e+00]\n",
            "   [7.35867233e+01 4.58672237e+00 0.00000000e+00]]\n",
            "\n",
            "  [[6.45510178e+01 6.19387770e+00 2.55101882e-02]\n",
            "   [6.33622437e+01 5.00510216e+00 0.00000000e+00]\n",
            "   [6.28316307e+01 6.21428585e+00 0.00000000e+00]\n",
            "   ...\n",
            "   [7.34847412e+01 6.91326714e+00 1.98959351e-01]\n",
            "   [7.60000000e+01 7.00000000e+00 0.00000000e+00]\n",
            "   [7.45458832e+01 5.54588127e+00 0.00000000e+00]]\n",
            "\n",
            "  [[7.56428604e+01 7.92857170e+00 2.20918322e+00]\n",
            "   [7.04846878e+01 4.22959185e+00 0.00000000e+00]\n",
            "   [7.15459137e+01 6.04591846e+00 0.00000000e+00]\n",
            "   ...\n",
            "   [7.33112717e+01 5.16837215e+00 0.00000000e+00]\n",
            "   [7.59438705e+01 6.94386721e+00 0.00000000e+00]\n",
            "   [7.32856445e+01 2.71421623e+00 0.00000000e+00]]\n",
            "\n",
            "  ...\n",
            "\n",
            "  [[1.64647949e+02 2.28622398e+01 2.86223936e+00]\n",
            "   [1.63770401e+02 2.19846935e+01 1.98469329e+00]\n",
            "   [1.64357132e+02 2.23112144e+01 3.29081941e+00]\n",
            "   ...\n",
            "   [1.68974442e+02 1.18520107e+01 2.63777733e+00]\n",
            "   [1.66801010e+02 1.28010149e+01 2.80101514e+00]\n",
            "   [1.67775513e+02 1.57755070e+01 4.77550650e+00]]\n",
            "\n",
            "  [[1.62163239e+02 2.11632423e+01 1.16324270e+00]\n",
            "   [1.60142807e+02 1.91428051e+01 1.37721539e-01]\n",
            "   [1.59270340e+02 1.78417702e+01 2.55039692e-01]\n",
            "   ...\n",
            "   [1.64484634e+02 7.69890213e+00 0.00000000e+00]\n",
            "   [1.66071442e+02 1.20714417e+01 2.07144165e+00]\n",
            "   [1.63453979e+02 1.14539738e+01 7.85644531e-01]]\n",
            "\n",
            "  [[1.62658157e+02 2.16581573e+01 1.88775170e+00]\n",
            "   [1.57331635e+02 1.63316364e+01 0.00000000e+00]\n",
            "   [1.56846939e+02 1.54183702e+01 0.00000000e+00]\n",
            "   ...\n",
            "   [1.69224487e+02 1.24387531e+01 2.79596138e+00]\n",
            "   [1.64622437e+02 1.06224413e+01 7.14294434e-01]\n",
            "   [1.62816345e+02 1.08163424e+01 2.29582191e-01]]]\n",
            "\n",
            "\n",
            " [[[9.66116104e+01 5.62544670e+01 3.54017878e+00]\n",
            "   [8.35452805e+01 4.71157494e+01 1.96109667e-01]\n",
            "   [6.81339264e+01 4.12053566e+01 5.27678585e+00]\n",
            "   ...\n",
            "   [1.57857361e+01 8.78573608e+00 2.78573608e+00]\n",
            "   [1.48300409e+01 6.83004045e+00 3.83004069e+00]\n",
            "   [1.29284668e+01 4.92846680e+00 1.92846680e+00]]\n",
            "\n",
            "  [[9.74285736e+01 5.72675400e+01 4.94547176e+00]\n",
            "   [8.24087982e+01 4.68670273e+01 1.07142830e+00]\n",
            "   [6.57155609e+01 3.87869873e+01 2.85841870e+00]\n",
            "   ...\n",
            "   [1.59033899e+01 8.90338993e+00 2.90338993e+00]\n",
            "   [1.40322123e+01 6.03221273e+00 3.03221250e+00]\n",
            "   [1.25754881e+01 4.57548857e+00 1.57548857e+00]]\n",
            "\n",
            "  [[9.50098877e+01 5.67748718e+01 5.10172176e+00]\n",
            "   [8.05908813e+01 4.64359016e+01 2.86988854e-01]\n",
            "   [6.27181129e+01 3.72276764e+01 1.29910707e+00]\n",
            "   ...\n",
            "   [1.60000000e+01 9.00000000e+00 3.00000000e+00]\n",
            "   [1.31502028e+01 5.15020323e+00 2.15020323e+00]\n",
            "   [1.19587631e+01 3.95876312e+00 1.28564453e+00]]\n",
            "\n",
            "  ...\n",
            "\n",
            "  [[1.82579056e+02 1.86748734e+02 1.72330093e+02]\n",
            "   [1.59606262e+02 1.62625732e+02 1.45997574e+02]\n",
            "   [4.33568497e+01 4.61607437e+01 2.60784874e+01]\n",
            "   ...\n",
            "   [8.87057495e+00 8.70574951e-01 0.00000000e+00]\n",
            "   [1.00908995e+01 2.09089994e+00 9.08998996e-02]\n",
            "   [1.00848389e+01 2.08483887e+00 8.48388672e-02]]\n",
            "\n",
            "  [[1.97459488e+02 2.05263077e+02 1.94615768e+02]\n",
            "   [1.84264053e+02 1.90067642e+02 1.76073090e+02]\n",
            "   [1.34119156e+02 1.38536255e+02 1.20556999e+02]\n",
            "   ...\n",
            "   [8.62626648e+00 1.97895813e+00 0.00000000e+00]\n",
            "   [1.01696472e+01 3.52233887e+00 1.07144165e+00]\n",
            "   [9.93715477e+00 3.28984690e+00 8.38949561e-01]]\n",
            "\n",
            "  [[2.01032639e+02 2.11849625e+02 2.03666611e+02]\n",
            "   [1.95736160e+02 2.05370132e+02 1.94146957e+02]\n",
            "   [1.81392441e+02 1.87068451e+02 1.72488129e+02]\n",
            "   ...\n",
            "   [7.03921318e+00 2.03921318e+00 0.00000000e+00]\n",
            "   [9.01307487e+00 4.01307487e+00 1.01307487e+00]\n",
            "   [8.64282227e+00 3.64282227e+00 6.42822266e-01]]]\n",
            "\n",
            "\n",
            " [[[4.90000000e+01 5.80000000e+01 6.50000000e+01]\n",
            "   [4.65459175e+01 5.35459175e+01 6.15459175e+01]\n",
            "   [4.77857170e+01 5.43571434e+01 5.99285698e+01]\n",
            "   ...\n",
            "   [2.20000000e+01 1.70000000e+01 1.40000000e+01]\n",
            "   [2.46632690e+01 1.66632690e+01 1.46632690e+01]\n",
            "   [2.38010082e+01 1.58010082e+01 1.38010082e+01]]\n",
            "\n",
            "  [[5.28316345e+01 6.18316345e+01 6.88316345e+01]\n",
            "   [4.81377563e+01 5.71377563e+01 6.41377563e+01]\n",
            "   [4.93571472e+01 5.59285736e+01 6.15000000e+01]\n",
            "   ...\n",
            "   [2.18418598e+01 1.77857361e+01 1.47857361e+01]\n",
            "   [2.51428833e+01 2.01428833e+01 1.71428833e+01]\n",
            "   [2.92857494e+01 2.42857494e+01 2.12857494e+01]]\n",
            "\n",
            "  [[5.19234695e+01 6.09234695e+01 6.83520432e+01]\n",
            "   [4.80000000e+01 5.70000000e+01 6.40000000e+01]\n",
            "   [4.94744911e+01 5.60459175e+01 6.20459175e+01]\n",
            "   ...\n",
            "   [1.27398005e+01 1.21683722e+01 7.95408630e+00]\n",
            "   [1.37857141e+01 1.32142859e+01 9.00000000e+00]\n",
            "   [1.57856789e+01 1.34235315e+01 9.85206795e+00]]\n",
            "\n",
            "  ...\n",
            "\n",
            "  [[1.40000000e+01 1.50000000e+01 1.00000000e+01]\n",
            "   [1.40000000e+01 1.50000000e+01 1.00000000e+01]\n",
            "   [1.40000000e+01 1.50000000e+01 1.00000000e+01]\n",
            "   ...\n",
            "   [1.37857361e+01 1.47857361e+01 9.78573608e+00]\n",
            "   [1.48010435e+01 1.58010435e+01 1.08010435e+01]\n",
            "   [1.50765305e+01 1.60765305e+01 1.10765305e+01]]\n",
            "\n",
            "  [[1.50000000e+01 1.60000000e+01 1.10000000e+01]\n",
            "   [1.50000000e+01 1.60000000e+01 1.10000000e+01]\n",
            "   [1.50000000e+01 1.60000000e+01 1.10000000e+01]\n",
            "   ...\n",
            "   [1.39285583e+01 1.49285583e+01 9.92855835e+00]\n",
            "   [1.40000000e+01 1.50000000e+01 1.00000000e+01]\n",
            "   [1.40000000e+01 1.50000000e+01 1.00000000e+01]]\n",
            "\n",
            "  [[1.50000000e+01 1.60000000e+01 1.10000000e+01]\n",
            "   [1.50000000e+01 1.60000000e+01 1.10000000e+01]\n",
            "   [1.50000000e+01 1.60000000e+01 1.10000000e+01]\n",
            "   ...\n",
            "   [1.16428223e+01 1.26428223e+01 7.64282227e+00]\n",
            "   [1.30714417e+01 1.40714417e+01 9.07144165e+00]\n",
            "   [1.40000000e+01 1.50000000e+01 1.00000000e+01]]]], shape=(32, 224, 224, 3), dtype=float32) tf.Tensor(\n",
            "[[0. 0. 0. 0. 0. 0. 0. 0. 1. 0.]\n",
            " [0. 0. 0. 0. 0. 0. 0. 0. 0. 1.]\n",
            " [0. 0. 0. 0. 0. 1. 0. 0. 0. 0.]\n",
            " [0. 0. 0. 0. 0. 0. 1. 0. 0. 0.]\n",
            " [1. 0. 0. 0. 0. 0. 0. 0. 0. 0.]\n",
            " [0. 1. 0. 0. 0. 0. 0. 0. 0. 0.]\n",
            " [0. 0. 0. 0. 1. 0. 0. 0. 0. 0.]\n",
            " [1. 0. 0. 0. 0. 0. 0. 0. 0. 0.]\n",
            " [0. 0. 0. 0. 0. 0. 1. 0. 0. 0.]\n",
            " [0. 0. 0. 0. 0. 0. 0. 1. 0. 0.]\n",
            " [0. 0. 0. 1. 0. 0. 0. 0. 0. 0.]\n",
            " [0. 0. 0. 0. 0. 0. 0. 1. 0. 0.]\n",
            " [0. 0. 0. 0. 0. 0. 1. 0. 0. 0.]\n",
            " [0. 0. 0. 0. 0. 0. 0. 1. 0. 0.]\n",
            " [0. 0. 0. 0. 0. 0. 0. 1. 0. 0.]\n",
            " [0. 0. 0. 0. 0. 0. 0. 1. 0. 0.]\n",
            " [0. 0. 0. 0. 0. 0. 0. 0. 0. 1.]\n",
            " [0. 0. 1. 0. 0. 0. 0. 0. 0. 0.]\n",
            " [0. 0. 0. 0. 0. 0. 0. 1. 0. 0.]\n",
            " [0. 0. 0. 0. 0. 0. 0. 0. 1. 0.]\n",
            " [0. 0. 0. 0. 0. 0. 1. 0. 0. 0.]\n",
            " [0. 0. 0. 0. 0. 0. 0. 1. 0. 0.]\n",
            " [0. 0. 0. 0. 0. 1. 0. 0. 0. 0.]\n",
            " [0. 0. 1. 0. 0. 0. 0. 0. 0. 0.]\n",
            " [1. 0. 0. 0. 0. 0. 0. 0. 0. 0.]\n",
            " [0. 0. 0. 1. 0. 0. 0. 0. 0. 0.]\n",
            " [0. 0. 0. 0. 0. 0. 0. 1. 0. 0.]\n",
            " [0. 0. 0. 0. 1. 0. 0. 0. 0. 0.]\n",
            " [0. 0. 0. 1. 0. 0. 0. 0. 0. 0.]\n",
            " [0. 0. 0. 0. 0. 0. 0. 0. 0. 1.]\n",
            " [0. 0. 0. 0. 0. 0. 1. 0. 0. 0.]\n",
            " [0. 1. 0. 0. 0. 0. 0. 0. 0. 0.]], shape=(32, 10), dtype=float32)\n"
          ]
        }
      ]
    },
    {
      "cell_type": "code",
      "source": [],
      "metadata": {
        "id": "tufd_kUvI5al"
      },
      "execution_count": null,
      "outputs": []
    }
  ]
}