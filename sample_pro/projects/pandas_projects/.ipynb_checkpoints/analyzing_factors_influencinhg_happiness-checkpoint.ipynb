{
 "cells": [
  {
   "cell_type": "markdown",
   "id": "0b572872-73fa-44f9-b04d-4f19ce377b9a",
   "metadata": {},
   "source": [
    "## Project Title: Analyzing Factors Influencing Happiness"
   ]
  },
  {
   "cell_type": "code",
   "execution_count": 1,
   "id": "4586e20c-9d85-4691-a52b-e9f36e949e3a",
   "metadata": {},
   "outputs": [],
   "source": [
    "# Goal: Use pandas to analyze the factors influencing happiness and identify trends that can help policymakers improve well-being globally."
   ]
  },
  {
   "cell_type": "code",
   "execution_count": null,
   "id": "2352b382-9c54-4d7f-abfa-cdb3da382d65",
   "metadata": {},
   "outputs": [],
   "source": [
    "import pandas as pd"
   ]
  }
 ],
 "metadata": {
  "kernelspec": {
   "display_name": "Python 3 (ipykernel)",
   "language": "python",
   "name": "python3"
  },
  "language_info": {
   "codemirror_mode": {
    "name": "ipython",
    "version": 3
   },
   "file_extension": ".py",
   "mimetype": "text/x-python",
   "name": "python",
   "nbconvert_exporter": "python",
   "pygments_lexer": "ipython3",
   "version": "3.12.4"
  }
 },
 "nbformat": 4,
 "nbformat_minor": 5
}
