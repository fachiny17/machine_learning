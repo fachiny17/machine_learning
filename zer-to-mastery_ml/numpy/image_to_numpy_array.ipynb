{
 "cells": [
  {
   "cell_type": "markdown",
   "id": "ff8c9fe4-5f52-4556-8ca8-f210694fc3d8",
   "metadata": {},
   "source": [
    "## Project: Turning Image into NumPy Array"
   ]
  },
  {
   "cell_type": "code",
   "execution_count": 23,
   "id": "85a2b1de-22bf-481a-8400-34cb9d8d54c6",
   "metadata": {},
   "outputs": [],
   "source": [
    "import numpy as np\n",
    "import pandas as pd\n",
    "from IPython.display import Image\n",
    "from IPython.core.display import HTML"
   ]
  },
  {
   "cell_type": "code",
   "execution_count": 32,
   "id": "efb41b89-b63a-4c4a-a37b-0b70d82ac2eb",
   "metadata": {},
   "outputs": [
    {
     "data": {
      "text/html": [
       "<img src=\"http://numpy/panda.png\"/>"
      ],
      "text/plain": [
       "<IPython.core.display.Image object>"
      ]
     },
     "execution_count": 32,
     "metadata": {},
     "output_type": "execute_result"
    }
   ],
   "source": [
    "Image(url=\"http://numpy/panda.png\")"
   ]
  },
  {
   "cell_type": "code",
   "execution_count": null,
   "id": "daf4dd7c-b4a5-45a4-817e-e7ed9cb5a1d3",
   "metadata": {},
   "outputs": [],
   "source": []
  }
 ],
 "metadata": {
  "kernelspec": {
   "display_name": "Python 3 (ipykernel)",
   "language": "python",
   "name": "python3"
  },
  "language_info": {
   "codemirror_mode": {
    "name": "ipython",
    "version": 3
   },
   "file_extension": ".py",
   "mimetype": "text/x-python",
   "name": "python",
   "nbconvert_exporter": "python",
   "pygments_lexer": "ipython3",
   "version": "3.12.4"
  }
 },
 "nbformat": 4,
 "nbformat_minor": 5
}
