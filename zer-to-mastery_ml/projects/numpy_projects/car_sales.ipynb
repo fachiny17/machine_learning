{
 "cells": [
  {
   "cell_type": "markdown",
   "id": "633363f6-1c58-40d3-b27c-193e94785a48",
   "metadata": {},
   "source": [
    "## Project: Weekly Car Sales Analysis"
   ]
  },
  {
   "cell_type": "code",
   "execution_count": 1,
   "id": "6edf1899-6061-4989-a533-16f211984a0f",
   "metadata": {},
   "outputs": [],
   "source": [
    "import numpy as np\n",
    "import pandas as pd"
   ]
  },
  {
   "cell_type": "code",
   "execution_count": 27,
   "id": "1e6ef288-0cb3-4c72-a4b3-54589a424bad",
   "metadata": {},
   "outputs": [
    {
     "data": {
      "text/plain": [
       "array([[44, 47, 64, 67, 67],\n",
       "       [ 9, 83, 21, 36, 87],\n",
       "       [70, 88, 88, 12, 58],\n",
       "       [65, 39, 87, 46, 88],\n",
       "       [81, 37, 25, 77, 72],\n",
       "       [ 9, 20, 80, 69, 79]])"
      ]
     },
     "execution_count": 27,
     "metadata": {},
     "output_type": "execute_result"
    }
   ],
   "source": [
    "np.random.seed(0)\n",
    "sales_amounts = np.random.randint(100, size=(6, 5))\n",
    "sales_amounts"
   ]
  },
  {
   "cell_type": "code",
   "execution_count": 11,
   "id": "c63b68d3-2613-41bb-be76-fe2138a9735f",
   "metadata": {},
   "outputs": [
    {
     "data": {
      "text/html": [
       "<div>\n",
       "<style scoped>\n",
       "    .dataframe tbody tr th:only-of-type {\n",
       "        vertical-align: middle;\n",
       "    }\n",
       "\n",
       "    .dataframe tbody tr th {\n",
       "        vertical-align: top;\n",
       "    }\n",
       "\n",
       "    .dataframe thead th {\n",
       "        text-align: right;\n",
       "    }\n",
       "</style>\n",
       "<table border=\"1\" class=\"dataframe\">\n",
       "  <thead>\n",
       "    <tr style=\"text-align: right;\">\n",
       "      <th></th>\n",
       "      <th>Audi</th>\n",
       "      <th>Honda</th>\n",
       "      <th>Toyota</th>\n",
       "      <th>BMW</th>\n",
       "      <th>Innoson</th>\n",
       "    </tr>\n",
       "  </thead>\n",
       "  <tbody>\n",
       "    <tr>\n",
       "      <th>Mon</th>\n",
       "      <td>72</td>\n",
       "      <td>46</td>\n",
       "      <td>1</td>\n",
       "      <td>13</td>\n",
       "      <td>41</td>\n",
       "    </tr>\n",
       "    <tr>\n",
       "      <th>Tue</th>\n",
       "      <td>93</td>\n",
       "      <td>12</td>\n",
       "      <td>21</td>\n",
       "      <td>94</td>\n",
       "      <td>93</td>\n",
       "    </tr>\n",
       "    <tr>\n",
       "      <th>Wed</th>\n",
       "      <td>75</td>\n",
       "      <td>5</td>\n",
       "      <td>27</td>\n",
       "      <td>39</td>\n",
       "      <td>11</td>\n",
       "    </tr>\n",
       "    <tr>\n",
       "      <th>Thur</th>\n",
       "      <td>98</td>\n",
       "      <td>3</td>\n",
       "      <td>87</td>\n",
       "      <td>80</td>\n",
       "      <td>46</td>\n",
       "    </tr>\n",
       "    <tr>\n",
       "      <th>Fri</th>\n",
       "      <td>90</td>\n",
       "      <td>4</td>\n",
       "      <td>38</td>\n",
       "      <td>71</td>\n",
       "      <td>53</td>\n",
       "    </tr>\n",
       "    <tr>\n",
       "      <th>Sat</th>\n",
       "      <td>58</td>\n",
       "      <td>97</td>\n",
       "      <td>18</td>\n",
       "      <td>15</td>\n",
       "      <td>65</td>\n",
       "    </tr>\n",
       "  </tbody>\n",
       "</table>\n",
       "</div>"
      ],
      "text/plain": [
       "      Audi  Honda  Toyota  BMW  Innoson\n",
       "Mon     72     46       1   13       41\n",
       "Tue     93     12      21   94       93\n",
       "Wed     75      5      27   39       11\n",
       "Thur    98      3      87   80       46\n",
       "Fri     90      4      38   71       53\n",
       "Sat     58     97      18   15       65"
      ]
     },
     "execution_count": 11,
     "metadata": {},
     "output_type": "execute_result"
    }
   ],
   "source": [
    "# Create Weekly Sales DataFrame\n",
    "weekly_sales = pd.DataFrame(sales_amounts,\n",
    "                            index=[\"Mon\", \"Tue\", \"Wed\", \"Thur\", \"Fri\", \"Sat\"],\n",
    "                            columns = [\"Audi\", \"Honda\", \"Toyota\", \"BMW\", \"Innoson\"])\n",
    "weekly_sales"
   ]
  },
  {
   "cell_type": "code",
   "execution_count": 29,
   "id": "c2e73a86-2209-4c20-ba59-4b144202ad14",
   "metadata": {},
   "outputs": [
    {
     "data": {
      "text/plain": [
       "array([150, 132,  95, 149, 119])"
      ]
     },
     "execution_count": 29,
     "metadata": {},
     "output_type": "execute_result"
    }
   ],
   "source": [
    "# Create the prices array\n",
    "prices = np.array([150, 132, 95, 149, 119])\n",
    "prices"
   ]
  },
  {
   "cell_type": "code",
   "execution_count": 34,
   "id": "06890970-a4b7-49da-afa1-2288e1c7cf52",
   "metadata": {},
   "outputs": [
    {
     "data": {
      "text/html": [
       "<div>\n",
       "<style scoped>\n",
       "    .dataframe tbody tr th:only-of-type {\n",
       "        vertical-align: middle;\n",
       "    }\n",
       "\n",
       "    .dataframe tbody tr th {\n",
       "        vertical-align: top;\n",
       "    }\n",
       "\n",
       "    .dataframe thead th {\n",
       "        text-align: right;\n",
       "    }\n",
       "</style>\n",
       "<table border=\"1\" class=\"dataframe\">\n",
       "  <thead>\n",
       "    <tr style=\"text-align: right;\">\n",
       "      <th></th>\n",
       "      <th>Audi</th>\n",
       "      <th>Honda</th>\n",
       "      <th>Toyota</th>\n",
       "      <th>BMW</th>\n",
       "      <th>Innoson</th>\n",
       "    </tr>\n",
       "  </thead>\n",
       "  <tbody>\n",
       "    <tr>\n",
       "      <th>Price (thousand dollars)</th>\n",
       "      <td>150</td>\n",
       "      <td>132</td>\n",
       "      <td>95</td>\n",
       "      <td>149</td>\n",
       "      <td>119</td>\n",
       "    </tr>\n",
       "  </tbody>\n",
       "</table>\n",
       "</div>"
      ],
      "text/plain": [
       "                          Audi  Honda  Toyota  BMW  Innoson\n",
       "Price (thousand dollars)   150    132      95  149      119"
      ]
     },
     "execution_count": 34,
     "metadata": {},
     "output_type": "execute_result"
    }
   ],
   "source": [
    "# Create Car prices DataFrame\n",
    "car_prices = pd.DataFrame(prices.reshape(1,5),\n",
    "                         index=[\"Price (thousand dollars)\"],\n",
    "                         columns = [\"Audi\", \"Honda\", \"Toyota\", \"BMW\", \"Innoson\"])\n",
    "car_prices"
   ]
  },
  {
   "cell_type": "code",
   "execution_count": 35,
   "id": "ac6f9da9-e7b2-4159-b131-5e6f8bf6b910",
   "metadata": {},
   "outputs": [
    {
     "data": {
      "text/plain": [
       "array([[44, 47, 64, 67, 67],\n",
       "       [ 9, 83, 21, 36, 87],\n",
       "       [70, 88, 88, 12, 58],\n",
       "       [65, 39, 87, 46, 88],\n",
       "       [81, 37, 25, 77, 72],\n",
       "       [ 9, 20, 80, 69, 79]])"
      ]
     },
     "execution_count": 35,
     "metadata": {},
     "output_type": "execute_result"
    }
   ],
   "source": [
    "sales_amount"
   ]
  },
  {
   "cell_type": "code",
   "execution_count": 36,
   "id": "9f7946ef-767b-400e-9131-a609562c2582",
   "metadata": {},
   "outputs": [
    {
     "data": {
      "text/plain": [
       "array([150, 132,  95, 149, 119])"
      ]
     },
     "execution_count": 36,
     "metadata": {},
     "output_type": "execute_result"
    }
   ],
   "source": [
    "prices"
   ]
  },
  {
   "cell_type": "code",
   "execution_count": 39,
   "id": "62326415-6bdd-4b6e-91f5-43179e2e252e",
   "metadata": {},
   "outputs": [
    {
     "data": {
      "text/plain": [
       "array([36840, 30018, 39166, 40489, 39450, 31272])"
      ]
     },
     "execution_count": 39,
     "metadata": {},
     "output_type": "execute_result"
    }
   ],
   "source": [
    "total_sales = prices.dot(sales_amount.T)\n",
    "total_sales"
   ]
  },
  {
   "cell_type": "code",
   "execution_count": 41,
   "id": "41d9aef0-ad1e-4608-bd21-c46b384d509f",
   "metadata": {},
   "outputs": [
    {
     "data": {
      "text/html": [
       "<div>\n",
       "<style scoped>\n",
       "    .dataframe tbody tr th:only-of-type {\n",
       "        vertical-align: middle;\n",
       "    }\n",
       "\n",
       "    .dataframe tbody tr th {\n",
       "        vertical-align: top;\n",
       "    }\n",
       "\n",
       "    .dataframe thead th {\n",
       "        text-align: right;\n",
       "    }\n",
       "</style>\n",
       "<table border=\"1\" class=\"dataframe\">\n",
       "  <thead>\n",
       "    <tr style=\"text-align: right;\">\n",
       "      <th></th>\n",
       "      <th>Audi</th>\n",
       "      <th>Honda</th>\n",
       "      <th>Toyota</th>\n",
       "      <th>BMW</th>\n",
       "      <th>Innoson</th>\n",
       "    </tr>\n",
       "  </thead>\n",
       "  <tbody>\n",
       "    <tr>\n",
       "      <th>Price (thousand dollars)</th>\n",
       "      <td>150</td>\n",
       "      <td>132</td>\n",
       "      <td>95</td>\n",
       "      <td>149</td>\n",
       "      <td>119</td>\n",
       "    </tr>\n",
       "  </tbody>\n",
       "</table>\n",
       "</div>"
      ],
      "text/plain": [
       "                          Audi  Honda  Toyota  BMW  Innoson\n",
       "Price (thousand dollars)   150    132      95  149      119"
      ]
     },
     "execution_count": 41,
     "metadata": {},
     "output_type": "execute_result"
    }
   ],
   "source": [
    "car_prices"
   ]
  },
  {
   "cell_type": "code",
   "execution_count": 42,
   "id": "c129b024-00a7-4fe5-9604-0111bd47f60d",
   "metadata": {},
   "outputs": [
    {
     "data": {
      "text/plain": [
       "((1, 5), (6, 5))"
      ]
     },
     "execution_count": 42,
     "metadata": {},
     "output_type": "execute_result"
    }
   ],
   "source": [
    "car_prices.shape, weekly_sales.shape"
   ]
  },
  {
   "cell_type": "code",
   "execution_count": 43,
   "id": "4876a959-c169-4ea1-afb1-d33b10b40554",
   "metadata": {},
   "outputs": [
    {
     "data": {
      "text/html": [
       "<div>\n",
       "<style scoped>\n",
       "    .dataframe tbody tr th:only-of-type {\n",
       "        vertical-align: middle;\n",
       "    }\n",
       "\n",
       "    .dataframe tbody tr th {\n",
       "        vertical-align: top;\n",
       "    }\n",
       "\n",
       "    .dataframe thead th {\n",
       "        text-align: right;\n",
       "    }\n",
       "</style>\n",
       "<table border=\"1\" class=\"dataframe\">\n",
       "  <thead>\n",
       "    <tr style=\"text-align: right;\">\n",
       "      <th></th>\n",
       "      <th>Mon</th>\n",
       "      <th>Tue</th>\n",
       "      <th>Wed</th>\n",
       "      <th>Thur</th>\n",
       "      <th>Fri</th>\n",
       "      <th>Sat</th>\n",
       "    </tr>\n",
       "  </thead>\n",
       "  <tbody>\n",
       "    <tr>\n",
       "      <th>Price (thousand dollars)</th>\n",
       "      <td>23783</td>\n",
       "      <td>42602</td>\n",
       "      <td>21595</td>\n",
       "      <td>40755</td>\n",
       "      <td>34524</td>\n",
       "      <td>33184</td>\n",
       "    </tr>\n",
       "  </tbody>\n",
       "</table>\n",
       "</div>"
      ],
      "text/plain": [
       "                            Mon    Tue    Wed   Thur    Fri    Sat\n",
       "Price (thousand dollars)  23783  42602  21595  40755  34524  33184"
      ]
     },
     "execution_count": 43,
     "metadata": {},
     "output_type": "execute_result"
    }
   ],
   "source": [
    "daily_sales = car_prices.dot(weekly_sales.T)\n",
    "daily_sales"
   ]
  },
  {
   "cell_type": "code",
   "execution_count": 44,
   "id": "5154acfe-4ede-4f99-9ce8-7718e31639d3",
   "metadata": {},
   "outputs": [
    {
     "data": {
      "text/html": [
       "<div>\n",
       "<style scoped>\n",
       "    .dataframe tbody tr th:only-of-type {\n",
       "        vertical-align: middle;\n",
       "    }\n",
       "\n",
       "    .dataframe tbody tr th {\n",
       "        vertical-align: top;\n",
       "    }\n",
       "\n",
       "    .dataframe thead th {\n",
       "        text-align: right;\n",
       "    }\n",
       "</style>\n",
       "<table border=\"1\" class=\"dataframe\">\n",
       "  <thead>\n",
       "    <tr style=\"text-align: right;\">\n",
       "      <th></th>\n",
       "      <th>Audi</th>\n",
       "      <th>Honda</th>\n",
       "      <th>Toyota</th>\n",
       "      <th>BMW</th>\n",
       "      <th>Innoson</th>\n",
       "    </tr>\n",
       "  </thead>\n",
       "  <tbody>\n",
       "    <tr>\n",
       "      <th>Mon</th>\n",
       "      <td>72</td>\n",
       "      <td>46</td>\n",
       "      <td>1</td>\n",
       "      <td>13</td>\n",
       "      <td>41</td>\n",
       "    </tr>\n",
       "    <tr>\n",
       "      <th>Tue</th>\n",
       "      <td>93</td>\n",
       "      <td>12</td>\n",
       "      <td>21</td>\n",
       "      <td>94</td>\n",
       "      <td>93</td>\n",
       "    </tr>\n",
       "    <tr>\n",
       "      <th>Wed</th>\n",
       "      <td>75</td>\n",
       "      <td>5</td>\n",
       "      <td>27</td>\n",
       "      <td>39</td>\n",
       "      <td>11</td>\n",
       "    </tr>\n",
       "    <tr>\n",
       "      <th>Thur</th>\n",
       "      <td>98</td>\n",
       "      <td>3</td>\n",
       "      <td>87</td>\n",
       "      <td>80</td>\n",
       "      <td>46</td>\n",
       "    </tr>\n",
       "    <tr>\n",
       "      <th>Fri</th>\n",
       "      <td>90</td>\n",
       "      <td>4</td>\n",
       "      <td>38</td>\n",
       "      <td>71</td>\n",
       "      <td>53</td>\n",
       "    </tr>\n",
       "    <tr>\n",
       "      <th>Sat</th>\n",
       "      <td>58</td>\n",
       "      <td>97</td>\n",
       "      <td>18</td>\n",
       "      <td>15</td>\n",
       "      <td>65</td>\n",
       "    </tr>\n",
       "  </tbody>\n",
       "</table>\n",
       "</div>"
      ],
      "text/plain": [
       "      Audi  Honda  Toyota  BMW  Innoson\n",
       "Mon     72     46       1   13       41\n",
       "Tue     93     12      21   94       93\n",
       "Wed     75      5      27   39       11\n",
       "Thur    98      3      87   80       46\n",
       "Fri     90      4      38   71       53\n",
       "Sat     58     97      18   15       65"
      ]
     },
     "execution_count": 44,
     "metadata": {},
     "output_type": "execute_result"
    }
   ],
   "source": [
    "weekly_sales"
   ]
  },
  {
   "cell_type": "code",
   "execution_count": 45,
   "id": "d931570e-8ba0-484c-92e5-371521f07800",
   "metadata": {},
   "outputs": [
    {
     "data": {
      "text/html": [
       "<div>\n",
       "<style scoped>\n",
       "    .dataframe tbody tr th:only-of-type {\n",
       "        vertical-align: middle;\n",
       "    }\n",
       "\n",
       "    .dataframe tbody tr th {\n",
       "        vertical-align: top;\n",
       "    }\n",
       "\n",
       "    .dataframe thead th {\n",
       "        text-align: right;\n",
       "    }\n",
       "</style>\n",
       "<table border=\"1\" class=\"dataframe\">\n",
       "  <thead>\n",
       "    <tr style=\"text-align: right;\">\n",
       "      <th></th>\n",
       "      <th>Audi</th>\n",
       "      <th>Honda</th>\n",
       "      <th>Toyota</th>\n",
       "      <th>BMW</th>\n",
       "      <th>Innoson</th>\n",
       "      <th>Total ($)</th>\n",
       "    </tr>\n",
       "  </thead>\n",
       "  <tbody>\n",
       "    <tr>\n",
       "      <th>Mon</th>\n",
       "      <td>72</td>\n",
       "      <td>46</td>\n",
       "      <td>1</td>\n",
       "      <td>13</td>\n",
       "      <td>41</td>\n",
       "      <td>23783</td>\n",
       "    </tr>\n",
       "    <tr>\n",
       "      <th>Tue</th>\n",
       "      <td>93</td>\n",
       "      <td>12</td>\n",
       "      <td>21</td>\n",
       "      <td>94</td>\n",
       "      <td>93</td>\n",
       "      <td>42602</td>\n",
       "    </tr>\n",
       "    <tr>\n",
       "      <th>Wed</th>\n",
       "      <td>75</td>\n",
       "      <td>5</td>\n",
       "      <td>27</td>\n",
       "      <td>39</td>\n",
       "      <td>11</td>\n",
       "      <td>21595</td>\n",
       "    </tr>\n",
       "    <tr>\n",
       "      <th>Thur</th>\n",
       "      <td>98</td>\n",
       "      <td>3</td>\n",
       "      <td>87</td>\n",
       "      <td>80</td>\n",
       "      <td>46</td>\n",
       "      <td>40755</td>\n",
       "    </tr>\n",
       "    <tr>\n",
       "      <th>Fri</th>\n",
       "      <td>90</td>\n",
       "      <td>4</td>\n",
       "      <td>38</td>\n",
       "      <td>71</td>\n",
       "      <td>53</td>\n",
       "      <td>34524</td>\n",
       "    </tr>\n",
       "    <tr>\n",
       "      <th>Sat</th>\n",
       "      <td>58</td>\n",
       "      <td>97</td>\n",
       "      <td>18</td>\n",
       "      <td>15</td>\n",
       "      <td>65</td>\n",
       "      <td>33184</td>\n",
       "    </tr>\n",
       "  </tbody>\n",
       "</table>\n",
       "</div>"
      ],
      "text/plain": [
       "      Audi  Honda  Toyota  BMW  Innoson  Total ($)\n",
       "Mon     72     46       1   13       41      23783\n",
       "Tue     93     12      21   94       93      42602\n",
       "Wed     75      5      27   39       11      21595\n",
       "Thur    98      3      87   80       46      40755\n",
       "Fri     90      4      38   71       53      34524\n",
       "Sat     58     97      18   15       65      33184"
      ]
     },
     "execution_count": 45,
     "metadata": {},
     "output_type": "execute_result"
    }
   ],
   "source": [
    "weekly_sales[\"Total ($)\"] = daily_sales.T\n",
    "weekly_sales"
   ]
  },
  {
   "cell_type": "markdown",
   "id": "efd20ec6-15b4-43d1-830d-20d212e8fac7",
   "metadata": {},
   "source": [
    "### Questions: Research more on the following\n",
    "#### 1. `np.random.seed(0)`\n",
    "#### 2. `daily_sales = car_prices.dot(weekly_sales.T)`"
   ]
  },
  {
   "cell_type": "code",
   "execution_count": null,
   "id": "1a3e391a-c51e-4220-b1d8-cfc9f5c9222a",
   "metadata": {},
   "outputs": [],
   "source": []
  }
 ],
 "metadata": {
  "kernelspec": {
   "display_name": "Python 3 (ipykernel)",
   "language": "python",
   "name": "python3"
  },
  "language_info": {
   "codemirror_mode": {
    "name": "ipython",
    "version": 3
   },
   "file_extension": ".py",
   "mimetype": "text/x-python",
   "name": "python",
   "nbconvert_exporter": "python",
   "pygments_lexer": "ipython3",
   "version": "3.12.4"
  }
 },
 "nbformat": 4,
 "nbformat_minor": 5
}
