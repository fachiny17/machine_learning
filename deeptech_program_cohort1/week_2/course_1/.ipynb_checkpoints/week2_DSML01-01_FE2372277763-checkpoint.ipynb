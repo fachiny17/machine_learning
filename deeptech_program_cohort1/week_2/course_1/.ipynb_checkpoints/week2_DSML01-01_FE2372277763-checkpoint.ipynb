{
 "cells": [
  {
   "cell_type": "markdown",
   "metadata": {
    "id": "A8wF_mEkyslC"
   },
   "source": [
    "### Applied Learning Assignment 2:"
   ]
  },
  {
   "cell_type": "markdown",
   "metadata": {},
   "source": [
    "**1.** Your observations from exploring the data.\n",
    "   \n",
    "   **Answer:**  \n",
    "   Observations from Exploring the Data:  \n",
    "   There are 26 number of rows.  \n",
    "   There are 11 number of columns.  \n",
    "   Key Issues Identified:  \n",
    "   Missing values in Effective Date, Financing Type, and Investors columns.  \n",
    "   Amount column contains currency symbols and inconsistent formats (e.g., \"$1.9b\", \"£41.7m\").  \n",
    "   Categories and Investors are stored as strings instead of structured lists.  \n",
    "   Date columns (Effective Date, Found At) are in object format, requiring conversion to datetime.\n",
    "\n",
    "**2.** The steps you took to clean, preprocess, and transform the data.\n",
    "\n",
    "   **Answer:**\n",
    "\n",
    "   Steps Taken to Clean, Preprocess, and Transform the Data:\n",
    "   i. Handle Missing Values:\n",
    "   Replace missing dates and categories with \"Unknown\".\n",
    "   Fill missing investors with \"No Investors\".\n",
    "\n",
    "   ii. Convert Data Types:\n",
    "   Convert Effective Date and Found At columns to datetime.\n",
    "\n",
    "   iii. Normalize the Amount Column:\n",
    "   Clean and convert the Amount column to a numeric format.\n",
    "\n",
    "   iv. Split Complex Fields:\n",
    "   Extract individual categories and investors for better analysis.\n",
    "\n",
    "   v. Check for Duplicates and Consistency:\n",
    "   Ensure there are no duplicate rows and verify unique entries.\n",
    "\n",
    "**3.** Justifications for each technique or decision you applied.\n",
    "   \n",
    "   **Answer:**  \n",
    "   * Handling Missing Data: Essential to ensure analysis completeness without discarding valuable records.\n",
    "   * Data Type Conversion: Ensures accurate calculations and time-based trend analysis.\n",
    "   * Amount Normalization: Converts values into a standard format for meaningful comparisons.\n",
    "   * Splitting Fields: Improves the ability to analyze investor participation and funding types.  \n",
    "\n",
    "**4.** Reflections on the importance of preprocessing in real-world data analysis.  \n",
    "   **Answer:**\n",
    "   Preprocessing is vital because:\n",
    "   * It ensures data integrity and quality.\n",
    "   * Facilitates accurate modeling and analysis.\n",
    "   * Helps uncover hidden patterns by structuring complex information.\n",
    "   * Reduces errors caused by inconsistent or incomplete data."
   ]
  },
  {
   "cell_type": "code",
   "execution_count": null,
   "metadata": {},
   "outputs": [],
   "source": []
  }
 ],
 "metadata": {
  "colab": {
   "provenance": []
  },
  "kernelspec": {
   "display_name": "Python 3 (ipykernel)",
   "language": "python",
   "name": "python3"
  },
  "language_info": {
   "codemirror_mode": {
    "name": "ipython",
    "version": 3
   },
   "file_extension": ".py",
   "mimetype": "text/x-python",
   "name": "python",
   "nbconvert_exporter": "python",
   "pygments_lexer": "ipython3",
   "version": "3.12.4"
  }
 },
 "nbformat": 4,
 "nbformat_minor": 4
}
