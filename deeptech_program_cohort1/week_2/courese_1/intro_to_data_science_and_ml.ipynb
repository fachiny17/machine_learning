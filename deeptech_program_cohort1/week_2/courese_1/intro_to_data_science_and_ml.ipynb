{
 "cells": [
  {
   "cell_type": "markdown",
   "id": "4fcd7f42-95e9-407f-a20b-04f82a576ce6",
   "metadata": {},
   "source": [
    "# Introduction to Data Science and Machine Learning"
   ]
  },
  {
   "cell_type": "code",
   "execution_count": 8,
   "id": "11992d37-fff1-4b2a-a0ab-ea2a674f005a",
   "metadata": {},
   "outputs": [],
   "source": [
    "# Import Libraries\n",
    "import pandas as pd\n",
    "import numpy as np\n",
    "import matplotlib.pyplot as plt"
   ]
  },
  {
   "cell_type": "code",
   "execution_count": 12,
   "id": "b460247e-ed00-49b6-903c-a2d818341f75",
   "metadata": {},
   "outputs": [
    {
     "data": {
      "text/html": [
       "<div>\n",
       "<style scoped>\n",
       "    .dataframe tbody tr th:only-of-type {\n",
       "        vertical-align: middle;\n",
       "    }\n",
       "\n",
       "    .dataframe tbody tr th {\n",
       "        vertical-align: top;\n",
       "    }\n",
       "\n",
       "    .dataframe thead th {\n",
       "        text-align: right;\n",
       "    }\n",
       "</style>\n",
       "<table border=\"1\" class=\"dataframe\">\n",
       "  <thead>\n",
       "    <tr style=\"text-align: right;\">\n",
       "      <th></th>\n",
       "      <th>Unnamed: 0</th>\n",
       "      <th>Make</th>\n",
       "      <th>Year of manufacture</th>\n",
       "      <th>Condition</th>\n",
       "      <th>Mileage</th>\n",
       "      <th>Engine Size</th>\n",
       "      <th>Fuel</th>\n",
       "      <th>Transmission</th>\n",
       "      <th>Price</th>\n",
       "      <th>Build</th>\n",
       "    </tr>\n",
       "  </thead>\n",
       "  <tbody>\n",
       "    <tr>\n",
       "      <th>0</th>\n",
       "      <td>0</td>\n",
       "      <td>Toyota</td>\n",
       "      <td>2007.0</td>\n",
       "      <td>Nigerian Used</td>\n",
       "      <td>166418.0</td>\n",
       "      <td>2400.0</td>\n",
       "      <td>Petrol</td>\n",
       "      <td>Automatic</td>\n",
       "      <td>3,120,000</td>\n",
       "      <td>NaN</td>\n",
       "    </tr>\n",
       "    <tr>\n",
       "      <th>1</th>\n",
       "      <td>1</td>\n",
       "      <td>Lexus</td>\n",
       "      <td>NaN</td>\n",
       "      <td>NaN</td>\n",
       "      <td>138024.0</td>\n",
       "      <td>NaN</td>\n",
       "      <td>NaN</td>\n",
       "      <td>Automatic</td>\n",
       "      <td>5,834,000</td>\n",
       "      <td>NaN</td>\n",
       "    </tr>\n",
       "    <tr>\n",
       "      <th>2</th>\n",
       "      <td>2</td>\n",
       "      <td>Mercedes-Benz</td>\n",
       "      <td>2008.0</td>\n",
       "      <td>Nigerian Used</td>\n",
       "      <td>376807.0</td>\n",
       "      <td>3000.0</td>\n",
       "      <td>Petrol</td>\n",
       "      <td>Automatic</td>\n",
       "      <td>3,640,000</td>\n",
       "      <td>NaN</td>\n",
       "    </tr>\n",
       "    <tr>\n",
       "      <th>3</th>\n",
       "      <td>3</td>\n",
       "      <td>Lexus</td>\n",
       "      <td>NaN</td>\n",
       "      <td>NaN</td>\n",
       "      <td>213362.0</td>\n",
       "      <td>NaN</td>\n",
       "      <td>NaN</td>\n",
       "      <td>Automatic</td>\n",
       "      <td>3,594,000</td>\n",
       "      <td>NaN</td>\n",
       "    </tr>\n",
       "    <tr>\n",
       "      <th>4</th>\n",
       "      <td>4</td>\n",
       "      <td>Mercedes-Benz</td>\n",
       "      <td>NaN</td>\n",
       "      <td>NaN</td>\n",
       "      <td>106199.0</td>\n",
       "      <td>NaN</td>\n",
       "      <td>NaN</td>\n",
       "      <td>Automatic</td>\n",
       "      <td>8,410,000</td>\n",
       "      <td>NaN</td>\n",
       "    </tr>\n",
       "  </tbody>\n",
       "</table>\n",
       "</div>"
      ],
      "text/plain": [
       "   Unnamed: 0           Make  Year of manufacture      Condition   Mileage  \\\n",
       "0           0         Toyota               2007.0  Nigerian Used  166418.0   \n",
       "1           1          Lexus                  NaN            NaN  138024.0   \n",
       "2           2  Mercedes-Benz               2008.0  Nigerian Used  376807.0   \n",
       "3           3          Lexus                  NaN            NaN  213362.0   \n",
       "4           4  Mercedes-Benz                  NaN            NaN  106199.0   \n",
       "\n",
       "   Engine Size    Fuel Transmission      Price Build  \n",
       "0       2400.0  Petrol    Automatic  3,120,000   NaN  \n",
       "1          NaN     NaN    Automatic  5,834,000   NaN  \n",
       "2       3000.0  Petrol    Automatic  3,640,000   NaN  \n",
       "3          NaN     NaN    Automatic  3,594,000   NaN  \n",
       "4          NaN     NaN    Automatic  8,410,000   NaN  "
      ]
     },
     "execution_count": 12,
     "metadata": {},
     "output_type": "execute_result"
    }
   ],
   "source": [
    "df = pd.read_csv(\"./Nigerian_Car_Prices.csv\")\n",
    "df.head()"
   ]
  },
  {
   "cell_type": "code",
   "execution_count": 13,
   "id": "27050a30-2469-476c-b6cb-d2a41267139e",
   "metadata": {},
   "outputs": [
    {
     "name": "stdout",
     "output_type": "stream",
     "text": [
      "<class 'pandas.core.frame.DataFrame'>\n",
      "RangeIndex: 4095 entries, 0 to 4094\n",
      "Data columns (total 10 columns):\n",
      " #   Column               Non-Null Count  Dtype  \n",
      "---  ------               --------------  -----  \n",
      " 0   Unnamed: 0           4095 non-null   int64  \n",
      " 1   Make                 4095 non-null   object \n",
      " 2   Year of manufacture  3617 non-null   float64\n",
      " 3   Condition            3616 non-null   object \n",
      " 4   Mileage              4024 non-null   float64\n",
      " 5   Engine Size          3584 non-null   float64\n",
      " 6   Fuel                 3607 non-null   object \n",
      " 7   Transmission         4075 non-null   object \n",
      " 8   Price                4095 non-null   object \n",
      " 9   Build                1127 non-null   object \n",
      "dtypes: float64(3), int64(1), object(6)\n",
      "memory usage: 320.1+ KB\n"
     ]
    }
   ],
   "source": [
    "df.info()"
   ]
  },
  {
   "cell_type": "markdown",
   "id": "449ed190-c627-4348-9167-2f87d477505b",
   "metadata": {},
   "source": [
    "### Missing Values"
   ]
  },
  {
   "cell_type": "code",
   "execution_count": null,
   "id": "223861cc-3d8b-4c85-8f82-139a5187dea3",
   "metadata": {},
   "outputs": [],
   "source": [
    "missin"
   ]
  }
 ],
 "metadata": {
  "kernelspec": {
   "display_name": "Python 3 (ipykernel)",
   "language": "python",
   "name": "python3"
  },
  "language_info": {
   "codemirror_mode": {
    "name": "ipython",
    "version": 3
   },
   "file_extension": ".py",
   "mimetype": "text/x-python",
   "name": "python",
   "nbconvert_exporter": "python",
   "pygments_lexer": "ipython3",
   "version": "3.12.4"
  }
 },
 "nbformat": 4,
 "nbformat_minor": 5
}
