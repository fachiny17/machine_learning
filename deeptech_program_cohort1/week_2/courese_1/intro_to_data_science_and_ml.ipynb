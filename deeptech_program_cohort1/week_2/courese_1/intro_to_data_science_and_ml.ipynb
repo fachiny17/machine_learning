{
 "cells": [
  {
   "cell_type": "markdown",
   "id": "4fcd7f42-95e9-407f-a20b-04f82a576ce6",
   "metadata": {},
   "source": [
    "# Introduction to Data Science and Machine Learning"
   ]
  },
  {
   "cell_type": "code",
   "execution_count": null,
   "id": "11992d37-fff1-4b2a-a0ab-ea2a674f005a",
   "metadata": {},
   "outputs": [],
   "source": [
    "# Import Libraries\n",
    "import pandas as pd\n",
    "import numpy as np\n",
    "import matplotlib.py as plt"
   ]
  },
  {
   "cell_type": "code",
   "execution_count": null,
   "id": "b460247e-ed00-49b6-903c-a2d818341f75",
   "metadata": {},
   "outputs": [],
   "source": [
    "df = pd.read_csv(\"\")"
   ]
  }
 ],
 "metadata": {
  "kernelspec": {
   "display_name": "Python 3 (ipykernel)",
   "language": "python",
   "name": "python3"
  },
  "language_info": {
   "codemirror_mode": {
    "name": "ipython",
    "version": 3
   },
   "file_extension": ".py",
   "mimetype": "text/x-python",
   "name": "python",
   "nbconvert_exporter": "python",
   "pygments_lexer": "ipython3",
   "version": "3.12.4"
  }
 },
 "nbformat": 4,
 "nbformat_minor": 5
}
