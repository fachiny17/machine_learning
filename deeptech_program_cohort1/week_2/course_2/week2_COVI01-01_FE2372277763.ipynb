{
  "cells": [
    {
      "cell_type": "markdown",
      "source": [
        "**1.** In Nigeria, one of the booming tech spaces is fintech. How do you think computer vision can help improve payment?\n",
        "Biometrics\n",
        "QR-Code\n",
        "Swipe and pay.\n",
        "\n",
        "**Answer:**  \n",
        "a. Biometrics:\n",
        "\n",
        "Facial Recognition for Authentication: Computer vision can enhance security by using facial recognition to verify user identities during transactions, reducing fraud and simplifying the payment process.\n",
        "\n",
        "b. QR-Code:\n",
        "\n",
        "QR Code Scanning: Computer vision can improve the speed and accuracy of QR code detection for payments, allowing users to make seamless transactions by scanning a code with their mobile devices.\n",
        "\n",
        "c. Swipe and Pay:\n",
        "\n",
        "Object Recognition for Card Detection: Computer vision can recognize and verify payment cards during contactless transactions, allowing users to simply swipe their card in front of a camera for quick payments.\n",
        "\n",
        "**2.** In Nigeria, we have healthtech startups combating the free access to healthcare. How do you think computer vision can help these startups better reach more people to have access to quality and good healthcare.\n",
        "\n",
        "**Answer:**  \n",
        "a. Remote Diagnostics and Telemedicine:\n",
        "Computer vision enables remote diagnosis through medical image analysis.\n",
        "\n",
        "b. Symptom Recognition:\n",
        "It identifies physical symptoms from patient-uploaded images.\n",
        "\n",
        "c. Patient Identification and Monitoring:\n",
        "Facial recognition ensures accurate patient records and tracking.\n",
        "\n",
        "d. Real-Time Vital Monitoring:\n",
        "It monitors patient vitals and alerts for critical conditions.\n",
        "\n",
        "e. Drug Authentication and Distribution:\n",
        "It detects counterfeit drugs by scanning and verifying packaging."
      ],
      "metadata": {
        "id": "FBaqSJL5lIB_"
      },
      "id": "FBaqSJL5lIB_"
    },
    {
      "cell_type": "code",
      "source": [
        "import cv2\n",
        "import matplotlib.pyplot as plt\n",
        "import numpy as np\n",
        "from google.colab.patches import cv_imshow"
      ],
      "metadata": {
        "id": "gDerKKctm-ce"
      },
      "id": "gDerKKctm-ce",
      "execution_count": null,
      "outputs": []
    },
    {
      "cell_type": "code",
      "source": [
        "# load the image\n",
        "img = cv2.imread('corrupted_student_picture.jpg')"
      ],
      "metadata": {
        "id": "jgo5iHc-sBCm"
      },
      "id": "jgo5iHc-sBCm",
      "execution_count": null,
      "outputs": []
    },
    {
      "cell_type": "code",
      "source": [
        "print(type(img))\n",
        "print(img.shape if isinstance(img, np.ndarray) else \"Image not loaded correctly\")"
      ],
      "metadata": {
        "id": "I5j06PLSsG6r",
        "outputId": "668edb4e-a922-45ee-ecc4-4302c9bf5611",
        "colab": {
          "base_uri": "https://localhost:8080/"
        }
      },
      "id": "I5j06PLSsG6r",
      "execution_count": 9,
      "outputs": [
        {
          "output_type": "stream",
          "name": "stdout",
          "text": [
            "<class 'NoneType'>\n",
            "Image not loaded correctly\n"
          ]
        }
      ]
    },
    {
      "cell_type": "code",
      "source": [],
      "metadata": {
        "id": "dbjMC6kfsw4M"
      },
      "id": "dbjMC6kfsw4M",
      "execution_count": null,
      "outputs": []
    }
  ],
  "metadata": {
    "colab": {
      "provenance": []
    },
    "language_info": {
      "name": "python"
    },
    "kernelspec": {
      "name": "python3",
      "display_name": "Python 3"
    }
  },
  "nbformat": 4,
  "nbformat_minor": 5
}