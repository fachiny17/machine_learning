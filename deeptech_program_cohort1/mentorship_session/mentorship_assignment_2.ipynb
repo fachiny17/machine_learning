{
  "nbformat": 4,
  "nbformat_minor": 0,
  "metadata": {
    "colab": {
      "provenance": [],
      "authorship_tag": "ABX9TyPcxSeprc87qANkXfA6W8ny",
      "include_colab_link": true
    },
    "kernelspec": {
      "name": "python3",
      "display_name": "Python 3"
    },
    "language_info": {
      "name": "python"
    }
  },
  "cells": [
    {
      "cell_type": "markdown",
      "metadata": {
        "id": "view-in-github",
        "colab_type": "text"
      },
      "source": [
        "<a href=\"https://colab.research.google.com/github/fachiny17/machine_learning/blob/main/deeptech_program_cohort1/mentorship_session/mentorship_assignment_2.ipynb\" target=\"_parent\"><img src=\"https://colab.research.google.com/assets/colab-badge.svg\" alt=\"Open In Colab\"/></a>"
      ]
    },
    {
      "cell_type": "markdown",
      "source": [
        "# Assignment 2"
      ],
      "metadata": {
        "id": "KcusAVCZ8f2R"
      }
    },
    {
      "cell_type": "markdown",
      "source": [
        "To further solve this, there's need for proper study to gain insight in the students data and probably the cause of the failure.\n",
        "\n",
        "1. To analyze the WAEC outcomes, I would need the student, teacher and school details.\n",
        "\n",
        "**For students:** name, ID/reg number, study_hour, class_and_exam_attendance.\n",
        "\n",
        "**For teacher:** name, qualification, teacher_attendance, follow_up.\n",
        "\n",
        "**For the school:** conducive_environs"
      ],
      "metadata": {
        "id": "qwxDT37I8oB4"
      }
    }
  ]
}