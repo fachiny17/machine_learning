{
  "nbformat": 4,
  "nbformat_minor": 0,
  "metadata": {
    "colab": {
      "provenance": [],
      "authorship_tag": "ABX9TyMlEJpySEBVQ8ZViLzuQG3w",
      "include_colab_link": true
    },
    "kernelspec": {
      "name": "python3",
      "display_name": "Python 3"
    },
    "language_info": {
      "name": "python"
    }
  },
  "cells": [
    {
      "cell_type": "markdown",
      "metadata": {
        "id": "view-in-github",
        "colab_type": "text"
      },
      "source": [
        "<a href=\"https://colab.research.google.com/github/fachiny17/machine_learning/blob/main/deeptech_program_cohort1/mentorship_session/mentorship_assignment_2.ipynb\" target=\"_parent\"><img src=\"https://colab.research.google.com/assets/colab-badge.svg\" alt=\"Open In Colab\"/></a>"
      ]
    },
    {
      "cell_type": "markdown",
      "source": [
        "# Assignment 2"
      ],
      "metadata": {
        "id": "KcusAVCZ8f2R"
      }
    },
    {
      "cell_type": "markdown",
      "source": [
        "##**Question 1**\n",
        "\n",
        "To further solve this, there's need for proper study to gain insight in the students data and probably the cause of the failure.\n",
        "\n",
        "1. To analyze the WAEC outcomes, I would need the student, teacher and school details.\n",
        "\n",
        "**For students:** name, ID/reg number, study_hour, class_and_exam_attendance.\n",
        "\n",
        "**For teacher:** name, qualification, teacher_attendance, follow_up.\n",
        "\n",
        "**For the school:** conducive_environs (scale of 1-10), school curiculum, WAEC_teacher_training\n",
        "\n",
        "## How these features are necessary .\n",
        "### 1. Student:\n",
        "i. name: to identify the student\n",
        "\n",
        "ii. ID/reg number: unique identifier for each student\n",
        "\n",
        "iii. age: to know if the participants falls within the age range. Also, the age affects someone's mentality.\n",
        "\n",
        "iv. study_hour: this is the amount of time a student dedicates to his/her study\n",
        "\n",
        "v. class_and_exam_attendance: this is really necessary because absence from school or class, the student may not get key ingo or concept from the teacher.\n",
        "\n",
        "### 2. Teacher:\n",
        "i. Name: to know the teacher.\n",
        "\n",
        "ii. qualification: to know hi/her experience; whether he/she can handle the task.\n",
        "\n",
        "iii. teacher_attendance: this shows if the teacher does his/her teaching and work.\n",
        "\n",
        "iv. follow_up: to know if the teacher actually follows student's performance.\n",
        "\n",
        "### 3. School:\n",
        "i. conducive_environs: the state or nature of the class, labs, and learning environment in general. **(on a rate of 1-10)**\n",
        "\n",
        "ii. school_curriculum: Does the school curriculum align with WAEC's scheme.\n",
        "\n",
        "iii. exposure_to _waec_training: Does the school send or expose their teachers to WAEC training. **(Yes or No)**"
      ],
      "metadata": {
        "id": "qwxDT37I8oB4"
      }
    },
    {
      "cell_type": "code",
      "source": [],
      "metadata": {
        "id": "syx-7iC0IhGE"
      },
      "execution_count": null,
      "outputs": []
    }
  ]
}