{
  "nbformat": 4,
  "nbformat_minor": 0,
  "metadata": {
    "colab": {
      "provenance": []
    },
    "kernelspec": {
      "name": "python3",
      "display_name": "Python 3"
    },
    "language_info": {
      "name": "python"
    }
  },
  "cells": [
    {
      "cell_type": "code",
      "execution_count": 4,
      "metadata": {
        "id": "JbtX4cGT_PCZ",
        "colab": {
          "base_uri": "https://localhost:8080/"
        },
        "outputId": "68b79e61-cc52-44ff-c94c-d1b026337a0d"
      },
      "outputs": [
        {
          "output_type": "stream",
          "name": "stdout",
          "text": [
            "Requirement already satisfied: azure.ai.ml in /usr/local/lib/python3.11/dist-packages (1.27.1)\n",
            "Requirement already satisfied: pyyaml<7.0.0,>=5.1.0 in /usr/local/lib/python3.11/dist-packages (from azure.ai.ml) (6.0.2)\n",
            "Requirement already satisfied: msrest<1.0.0,>=0.6.18 in /usr/local/lib/python3.11/dist-packages (from azure.ai.ml) (0.7.1)\n",
            "Requirement already satisfied: azure-core>=1.23.0 in /usr/local/lib/python3.11/dist-packages (from azure.ai.ml) (1.34.0)\n",
            "Requirement already satisfied: azure-mgmt-core>=1.3.0 in /usr/local/lib/python3.11/dist-packages (from azure.ai.ml) (1.5.0)\n",
            "Requirement already satisfied: marshmallow<4.0.0,>=3.5 in /usr/local/lib/python3.11/dist-packages (from azure.ai.ml) (3.26.1)\n",
            "Requirement already satisfied: jsonschema<5.0.0,>=4.0.0 in /usr/local/lib/python3.11/dist-packages (from azure.ai.ml) (4.24.0)\n",
            "Requirement already satisfied: tqdm<5.0.0 in /usr/local/lib/python3.11/dist-packages (from azure.ai.ml) (4.67.1)\n",
            "Requirement already satisfied: strictyaml<2.0.0 in /usr/local/lib/python3.11/dist-packages (from azure.ai.ml) (1.7.3)\n",
            "Requirement already satisfied: colorama<1.0.0 in /usr/local/lib/python3.11/dist-packages (from azure.ai.ml) (0.4.6)\n",
            "Requirement already satisfied: pyjwt<3.0.0 in /usr/local/lib/python3.11/dist-packages (from azure.ai.ml) (2.10.1)\n",
            "Requirement already satisfied: azure-storage-blob>=12.10.0 in /usr/local/lib/python3.11/dist-packages (from azure.ai.ml) (12.25.1)\n",
            "Requirement already satisfied: azure-storage-file-share in /usr/local/lib/python3.11/dist-packages (from azure.ai.ml) (12.21.0)\n",
            "Requirement already satisfied: azure-storage-file-datalake>=12.2.0 in /usr/local/lib/python3.11/dist-packages (from azure.ai.ml) (12.20.0)\n",
            "Requirement already satisfied: pydash<9.0.0,>=6.0.0 in /usr/local/lib/python3.11/dist-packages (from azure.ai.ml) (8.0.5)\n",
            "Requirement already satisfied: isodate<1.0.0 in /usr/local/lib/python3.11/dist-packages (from azure.ai.ml) (0.7.2)\n",
            "Requirement already satisfied: azure-common>=1.1 in /usr/local/lib/python3.11/dist-packages (from azure.ai.ml) (1.1.28)\n",
            "Requirement already satisfied: typing-extensions<5.0.0 in /usr/local/lib/python3.11/dist-packages (from azure.ai.ml) (4.14.0)\n",
            "Requirement already satisfied: azure-monitor-opentelemetry in /usr/local/lib/python3.11/dist-packages (from azure.ai.ml) (1.6.10)\n",
            "Requirement already satisfied: six>=1.11.0 in /usr/local/lib/python3.11/dist-packages (from azure.ai.ml) (1.17.0)\n",
            "Requirement already satisfied: requests>=2.21.0 in /usr/local/lib/python3.11/dist-packages (from azure-core>=1.23.0->azure.ai.ml) (2.32.3)\n",
            "Requirement already satisfied: cryptography>=2.1.4 in /usr/local/lib/python3.11/dist-packages (from azure-storage-blob>=12.10.0->azure.ai.ml) (43.0.3)\n",
            "Requirement already satisfied: attrs>=22.2.0 in /usr/local/lib/python3.11/dist-packages (from jsonschema<5.0.0,>=4.0.0->azure.ai.ml) (25.3.0)\n",
            "Requirement already satisfied: jsonschema-specifications>=2023.03.6 in /usr/local/lib/python3.11/dist-packages (from jsonschema<5.0.0,>=4.0.0->azure.ai.ml) (2025.4.1)\n",
            "Requirement already satisfied: referencing>=0.28.4 in /usr/local/lib/python3.11/dist-packages (from jsonschema<5.0.0,>=4.0.0->azure.ai.ml) (0.36.2)\n",
            "Requirement already satisfied: rpds-py>=0.7.1 in /usr/local/lib/python3.11/dist-packages (from jsonschema<5.0.0,>=4.0.0->azure.ai.ml) (0.25.1)\n",
            "Requirement already satisfied: packaging>=17.0 in /usr/local/lib/python3.11/dist-packages (from marshmallow<4.0.0,>=3.5->azure.ai.ml) (24.2)\n",
            "Requirement already satisfied: certifi>=2017.4.17 in /usr/local/lib/python3.11/dist-packages (from msrest<1.0.0,>=0.6.18->azure.ai.ml) (2025.6.15)\n",
            "Requirement already satisfied: requests-oauthlib>=0.5.0 in /usr/local/lib/python3.11/dist-packages (from msrest<1.0.0,>=0.6.18->azure.ai.ml) (2.0.0)\n",
            "Requirement already satisfied: python-dateutil>=2.6.0 in /usr/local/lib/python3.11/dist-packages (from strictyaml<2.0.0->azure.ai.ml) (2.9.0.post0)\n",
            "Requirement already satisfied: azure-core-tracing-opentelemetry~=1.0.0b11 in /usr/local/lib/python3.11/dist-packages (from azure-monitor-opentelemetry->azure.ai.ml) (1.0.0b12)\n",
            "Requirement already satisfied: azure-monitor-opentelemetry-exporter~=1.0.0b31 in /usr/local/lib/python3.11/dist-packages (from azure-monitor-opentelemetry->azure.ai.ml) (1.0.0b38)\n",
            "Requirement already satisfied: opentelemetry-instrumentation-django<0.53b0,>=0.49b0 in /usr/local/lib/python3.11/dist-packages (from azure-monitor-opentelemetry->azure.ai.ml) (0.52b1)\n",
            "Requirement already satisfied: opentelemetry-instrumentation-fastapi<0.53b0,>=0.49b0 in /usr/local/lib/python3.11/dist-packages (from azure-monitor-opentelemetry->azure.ai.ml) (0.52b1)\n",
            "Requirement already satisfied: opentelemetry-instrumentation-flask<0.53b0,>=0.49b0 in /usr/local/lib/python3.11/dist-packages (from azure-monitor-opentelemetry->azure.ai.ml) (0.52b1)\n",
            "Requirement already satisfied: opentelemetry-instrumentation-psycopg2<0.53b0,>=0.49b0 in /usr/local/lib/python3.11/dist-packages (from azure-monitor-opentelemetry->azure.ai.ml) (0.52b1)\n",
            "Requirement already satisfied: opentelemetry-instrumentation-requests<0.53b0,>=0.49b0 in /usr/local/lib/python3.11/dist-packages (from azure-monitor-opentelemetry->azure.ai.ml) (0.52b1)\n",
            "Requirement already satisfied: opentelemetry-instrumentation-urllib<0.53b0,>=0.49b0 in /usr/local/lib/python3.11/dist-packages (from azure-monitor-opentelemetry->azure.ai.ml) (0.52b1)\n",
            "Requirement already satisfied: opentelemetry-instrumentation-urllib3<0.53b0,>=0.49b0 in /usr/local/lib/python3.11/dist-packages (from azure-monitor-opentelemetry->azure.ai.ml) (0.52b1)\n",
            "Requirement already satisfied: opentelemetry-resource-detector-azure~=0.1.4 in /usr/local/lib/python3.11/dist-packages (from azure-monitor-opentelemetry->azure.ai.ml) (0.1.5)\n",
            "Requirement already satisfied: opentelemetry-sdk<1.32,>=1.28.0 in /usr/local/lib/python3.11/dist-packages (from azure-monitor-opentelemetry->azure.ai.ml) (1.31.1)\n",
            "Requirement already satisfied: opentelemetry-api>=1.12.0 in /usr/local/lib/python3.11/dist-packages (from azure-core-tracing-opentelemetry~=1.0.0b11->azure-monitor-opentelemetry->azure.ai.ml) (1.31.1)\n",
            "Requirement already satisfied: azure-identity~=1.17 in /usr/local/lib/python3.11/dist-packages (from azure-monitor-opentelemetry-exporter~=1.0.0b31->azure-monitor-opentelemetry->azure.ai.ml) (1.23.0)\n",
            "Requirement already satisfied: fixedint==0.1.6 in /usr/local/lib/python3.11/dist-packages (from azure-monitor-opentelemetry-exporter~=1.0.0b31->azure-monitor-opentelemetry->azure.ai.ml) (0.1.6)\n",
            "Requirement already satisfied: psutil<8,>=5.9 in /usr/local/lib/python3.11/dist-packages (from azure-monitor-opentelemetry-exporter~=1.0.0b31->azure-monitor-opentelemetry->azure.ai.ml) (5.9.5)\n",
            "Requirement already satisfied: cffi>=1.12 in /usr/local/lib/python3.11/dist-packages (from cryptography>=2.1.4->azure-storage-blob>=12.10.0->azure.ai.ml) (1.17.1)\n",
            "Requirement already satisfied: opentelemetry-instrumentation-wsgi==0.52b1 in /usr/local/lib/python3.11/dist-packages (from opentelemetry-instrumentation-django<0.53b0,>=0.49b0->azure-monitor-opentelemetry->azure.ai.ml) (0.52b1)\n",
            "Requirement already satisfied: opentelemetry-instrumentation==0.52b1 in /usr/local/lib/python3.11/dist-packages (from opentelemetry-instrumentation-django<0.53b0,>=0.49b0->azure-monitor-opentelemetry->azure.ai.ml) (0.52b1)\n",
            "Requirement already satisfied: opentelemetry-semantic-conventions==0.52b1 in /usr/local/lib/python3.11/dist-packages (from opentelemetry-instrumentation-django<0.53b0,>=0.49b0->azure-monitor-opentelemetry->azure.ai.ml) (0.52b1)\n",
            "Requirement already satisfied: opentelemetry-util-http==0.52b1 in /usr/local/lib/python3.11/dist-packages (from opentelemetry-instrumentation-django<0.53b0,>=0.49b0->azure-monitor-opentelemetry->azure.ai.ml) (0.52b1)\n",
            "Requirement already satisfied: wrapt<2.0.0,>=1.0.0 in /usr/local/lib/python3.11/dist-packages (from opentelemetry-instrumentation==0.52b1->opentelemetry-instrumentation-django<0.53b0,>=0.49b0->azure-monitor-opentelemetry->azure.ai.ml) (1.17.2)\n",
            "Requirement already satisfied: deprecated>=1.2.6 in /usr/local/lib/python3.11/dist-packages (from opentelemetry-semantic-conventions==0.52b1->opentelemetry-instrumentation-django<0.53b0,>=0.49b0->azure-monitor-opentelemetry->azure.ai.ml) (1.2.18)\n",
            "Requirement already satisfied: importlib-metadata<8.7.0,>=6.0 in /usr/local/lib/python3.11/dist-packages (from opentelemetry-api>=1.12.0->azure-core-tracing-opentelemetry~=1.0.0b11->azure-monitor-opentelemetry->azure.ai.ml) (8.6.1)\n",
            "Requirement already satisfied: opentelemetry-instrumentation-asgi==0.52b1 in /usr/local/lib/python3.11/dist-packages (from opentelemetry-instrumentation-fastapi<0.53b0,>=0.49b0->azure-monitor-opentelemetry->azure.ai.ml) (0.52b1)\n",
            "Requirement already satisfied: asgiref~=3.0 in /usr/local/lib/python3.11/dist-packages (from opentelemetry-instrumentation-asgi==0.52b1->opentelemetry-instrumentation-fastapi<0.53b0,>=0.49b0->azure-monitor-opentelemetry->azure.ai.ml) (3.8.1)\n",
            "Requirement already satisfied: opentelemetry-instrumentation-dbapi==0.52b1 in /usr/local/lib/python3.11/dist-packages (from opentelemetry-instrumentation-psycopg2<0.53b0,>=0.49b0->azure-monitor-opentelemetry->azure.ai.ml) (0.52b1)\n",
            "Requirement already satisfied: charset-normalizer<4,>=2 in /usr/local/lib/python3.11/dist-packages (from requests>=2.21.0->azure-core>=1.23.0->azure.ai.ml) (3.4.2)\n",
            "Requirement already satisfied: idna<4,>=2.5 in /usr/local/lib/python3.11/dist-packages (from requests>=2.21.0->azure-core>=1.23.0->azure.ai.ml) (3.10)\n",
            "Requirement already satisfied: urllib3<3,>=1.21.1 in /usr/local/lib/python3.11/dist-packages (from requests>=2.21.0->azure-core>=1.23.0->azure.ai.ml) (2.4.0)\n",
            "Requirement already satisfied: oauthlib>=3.0.0 in /usr/local/lib/python3.11/dist-packages (from requests-oauthlib>=0.5.0->msrest<1.0.0,>=0.6.18->azure.ai.ml) (3.2.2)\n",
            "Requirement already satisfied: msal>=1.30.0 in /usr/local/lib/python3.11/dist-packages (from azure-identity~=1.17->azure-monitor-opentelemetry-exporter~=1.0.0b31->azure-monitor-opentelemetry->azure.ai.ml) (1.32.3)\n",
            "Requirement already satisfied: msal-extensions>=1.2.0 in /usr/local/lib/python3.11/dist-packages (from azure-identity~=1.17->azure-monitor-opentelemetry-exporter~=1.0.0b31->azure-monitor-opentelemetry->azure.ai.ml) (1.3.1)\n",
            "Requirement already satisfied: pycparser in /usr/local/lib/python3.11/dist-packages (from cffi>=1.12->cryptography>=2.1.4->azure-storage-blob>=12.10.0->azure.ai.ml) (2.22)\n",
            "Requirement already satisfied: zipp>=3.20 in /usr/local/lib/python3.11/dist-packages (from importlib-metadata<8.7.0,>=6.0->opentelemetry-api>=1.12.0->azure-core-tracing-opentelemetry~=1.0.0b11->azure-monitor-opentelemetry->azure.ai.ml) (3.23.0)\n"
          ]
        }
      ],
      "source": [
        "!pip install azure.ai.ml"
      ]
    },
    {
      "cell_type": "markdown",
      "source": [
        "## Setip ML Client"
      ],
      "metadata": {
        "id": "D5U8VDqAI8I8"
      }
    },
    {
      "cell_type": "code",
      "source": [
        "# Handle to the workspace\n",
        "from azure.ai.ml import MLClient\n",
        "\n",
        "# Authenticate package\n",
        "from azure.identity import DefaultAzureCredential\n",
        "credential = DefaultAzureCredential()\n",
        "\n",
        "subscription_id = \"2833b0e0-4429-4351-a773-6dcf5644ab74\"\n",
        "resource_group = \"DeepTech_Ready_Program\"\n",
        "workspace = \"chisom_azure_ml_workspace (asure_ml_workspace)\"\n",
        "\n",
        "ml_client = MLClient(\n",
        "    credential, subscription_id, resource_group, workspace\n",
        "    )\n",
        "\n",
        "# Test connection\n",
        "for workspace in ml_client.workspaces.list():\n",
        "    print(f\"Workspace Name: {workspace.name}, Location: {workspace.location}\")"
      ],
      "metadata": {
        "id": "DjbEmG5qIcgv"
      },
      "execution_count": 5,
      "outputs": []
    },
    {
      "cell_type": "markdown",
      "source": [
        "## Create a Compute INstance or Use an Existing Instance"
      ],
      "metadata": {
        "id": "SLXTwRfrIwK6"
      }
    },
    {
      "cell_type": "code",
      "source": [],
      "metadata": {
        "id": "PGvcRAT0JGTS"
      },
      "execution_count": null,
      "outputs": []
    }
  ]
}